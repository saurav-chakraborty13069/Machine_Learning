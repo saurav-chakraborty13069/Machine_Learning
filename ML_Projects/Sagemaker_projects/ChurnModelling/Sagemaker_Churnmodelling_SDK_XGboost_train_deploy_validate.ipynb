{
 "cells": [
  {
   "cell_type": "code",
   "execution_count": 36,
   "metadata": {},
   "outputs": [],
   "source": [
    "import sklearn\n",
    "import pandas as pd\n",
    "import numpy as np\n",
    "import boto3\n",
    "import pprint\n",
    "import os\n",
    "import time\n",
    "\n",
    "\n",
    "import re\n",
    "\n",
    "import sagemaker\n",
    "from sagemaker import get_execution_role"
   ]
  },
  {
   "cell_type": "code",
   "execution_count": 37,
   "metadata": {},
   "outputs": [],
   "source": [
    "sess = sagemaker.Session()"
   ]
  },
  {
   "cell_type": "code",
   "execution_count": 38,
   "metadata": {},
   "outputs": [
    {
     "name": "stdout",
     "output_type": "stream",
     "text": [
      "arn:aws:iam::750253866451:role/sage_role\n"
     ]
    }
   ],
   "source": [
    "role = get_execution_role()\n",
    "print(role)"
   ]
  },
  {
   "cell_type": "code",
   "execution_count": 39,
   "metadata": {},
   "outputs": [],
   "source": [
    "bucket_name = 'saurav-ml-sagemaker'\n",
    "\n",
    "training_folder = r'ChurnModel/training/'\n",
    "test_folder = r'ChurnModel/test/'\n",
    "validation_folder = r'ChurnModel/validation/'"
   ]
  },
  {
   "cell_type": "code",
   "execution_count": 40,
   "metadata": {},
   "outputs": [],
   "source": [
    "s3_model_output_location = r's3://{}/ChurnModel/model'.format(bucket_name)\n",
    "s3_training_file_location = r's3://{0}/{1}'.format(bucket_name,training_folder)\n",
    "s3_test_file_location = r's3://{0}/{1}'.format(bucket_name,test_folder)\n",
    "s3_validation_file_location = r's3://{0}/{1}'.format(bucket_name, validation_folder)"
   ]
  },
  {
   "cell_type": "code",
   "execution_count": 41,
   "metadata": {},
   "outputs": [
    {
     "name": "stdout",
     "output_type": "stream",
     "text": [
      "s3://saurav-ml-sagemaker/ChurnModel/model\n",
      "s3://saurav-ml-sagemaker/ChurnModel/training/\n",
      "s3://saurav-ml-sagemaker/ChurnModel/validation/\n",
      "s3://saurav-ml-sagemaker/ChurnModel/test/\n"
     ]
    }
   ],
   "source": [
    "print(s3_model_output_location)\n",
    "print(s3_training_file_location)\n",
    "print(s3_validation_file_location)\n",
    "print(s3_test_file_location)"
   ]
  },
  {
   "cell_type": "code",
   "execution_count": 42,
   "metadata": {},
   "outputs": [
    {
     "name": "stderr",
     "output_type": "stream",
     "text": [
      "WARNING:root:There is a more up to date SageMaker XGBoost image. To use the newer image, please set 'repo_version'='0.90-1'. For example:\n",
      "\tget_image_uri(region, 'xgboost', '0.90-1').\n"
     ]
    },
    {
     "name": "stdout",
     "output_type": "stream",
     "text": [
      "Using SageMaker XGBoost container:\n",
      "811284229777.dkr.ecr.us-east-1.amazonaws.com/xgboost:latest (us-east-1)\n"
     ]
    }
   ],
   "source": [
    "container = sagemaker.amazon.amazon_estimator.get_image_uri(sess.boto_region_name,\n",
    "                                                            \"xgboost\",\n",
    "                                                           \"latest\")\n",
    "\n",
    "print('Using SageMaker XGBoost container:\\n{} ({})'.format(container, sess.boto_region_name))"
   ]
  },
  {
   "cell_type": "code",
   "execution_count": 43,
   "metadata": {},
   "outputs": [],
   "source": [
    "estimator = sagemaker.estimator.Estimator(  container,\n",
    "                                            role, \n",
    "                                            train_instance_count=1, \n",
    "                                            train_instance_type='ml.m4.xlarge',\n",
    "                                            output_path=s3_model_output_location,\n",
    "                                            sagemaker_session=sess,\n",
    "                                            base_job_name ='xgboost-churn-v1')"
   ]
  },
  {
   "cell_type": "code",
   "execution_count": 44,
   "metadata": {},
   "outputs": [],
   "source": [
    "estimator.set_hyperparameters(max_depth = 5,\n",
    "                             objective = \"binary:logistic\",\n",
    "                             eta = 0.1,\n",
    "                             num_round = 150)"
   ]
  },
  {
   "cell_type": "code",
   "execution_count": 45,
   "metadata": {},
   "outputs": [
    {
     "data": {
      "text/plain": [
       "{'max_depth': 5, 'objective': 'binary:logistic', 'eta': 0.1, 'num_round': 150}"
      ]
     },
     "execution_count": 45,
     "metadata": {},
     "output_type": "execute_result"
    }
   ],
   "source": [
    "estimator.hyperparameters()"
   ]
  },
  {
   "cell_type": "raw",
   "metadata": {},
   "source": []
  },
  {
   "cell_type": "code",
   "execution_count": 46,
   "metadata": {},
   "outputs": [],
   "source": [
    "train_channel = sagemaker.session.s3_input(s3_data = s3_training_file_location,\n",
    "                                          content_type = 'csv',\n",
    "                                          s3_data_type = 'S3Prefix')"
   ]
  },
  {
   "cell_type": "code",
   "execution_count": 47,
   "metadata": {},
   "outputs": [],
   "source": [
    "validation_channel = sagemaker.session.s3_input(s3_data = s3_validation_file_location,\n",
    "                                          content_type = 'csv',\n",
    "                                          s3_data_type = 'S3Prefix')"
   ]
  },
  {
   "cell_type": "code",
   "execution_count": 48,
   "metadata": {},
   "outputs": [],
   "source": [
    "data_channels = {'train': train_channel, 'validation': validation_channel}"
   ]
  },
  {
   "cell_type": "code",
   "execution_count": 49,
   "metadata": {},
   "outputs": [
    {
     "name": "stdout",
     "output_type": "stream",
     "text": [
      "{'DataSource': {'S3DataSource': {'S3DataType': 'S3Prefix', 'S3Uri': 's3://saurav-ml-sagemaker/ChurnModel/training/', 'S3DataDistributionType': 'FullyReplicated'}}, 'ContentType': 'csv'}\n",
      "{'DataSource': {'S3DataSource': {'S3DataType': 'S3Prefix', 'S3Uri': 's3://saurav-ml-sagemaker/ChurnModel/validation/', 'S3DataDistributionType': 'FullyReplicated'}}, 'ContentType': 'csv'}\n"
     ]
    }
   ],
   "source": [
    "print(train_channel.config)\n",
    "print(validation_channel.config)"
   ]
  },
  {
   "cell_type": "code",
   "execution_count": 50,
   "metadata": {},
   "outputs": [
    {
     "name": "stdout",
     "output_type": "stream",
     "text": [
      "2020-03-29 07:57:28 Starting - Starting the training job...\n",
      "2020-03-29 07:57:29 Starting - Launching requested ML instances.........\n",
      "2020-03-29 07:59:11 Starting - Preparing the instances for training......\n",
      "2020-03-29 08:00:09 Downloading - Downloading input data...\n",
      "2020-03-29 08:00:44 Training - Downloading the training image..\n",
      "2020-03-29 08:01:16 Uploading - Uploading generated training model\n",
      "2020-03-29 08:01:16 Completed - Training job completed\n",
      "\u001b[34mArguments: train\u001b[0m\n",
      "\u001b[34m[2020-03-29:08:01:04:INFO] Running standalone xgboost training.\u001b[0m\n",
      "\u001b[34m[2020-03-29:08:01:04:INFO] File size need to be processed in the node: 2.06mb. Available memory size in the node: 8517.89mb\u001b[0m\n",
      "\u001b[34m[2020-03-29:08:01:04:INFO] Determined delimiter of CSV input is ','\u001b[0m\n",
      "\u001b[34m[08:01:04] S3DistributionType set as FullyReplicated\u001b[0m\n",
      "\u001b[34m[08:01:04] 7000x13 matrix with 91000 entries loaded from /opt/ml/input/data/train?format=csv&label_column=0&delimiter=,\u001b[0m\n",
      "\u001b[34m[2020-03-29:08:01:04:INFO] Determined delimiter of CSV input is ','\u001b[0m\n",
      "\u001b[34m[08:01:04] S3DistributionType set as FullyReplicated\u001b[0m\n",
      "\u001b[34m[08:01:04] 1500x13 matrix with 19500 entries loaded from /opt/ml/input/data/validation?format=csv&label_column=0&delimiter=,\u001b[0m\n",
      "\u001b[34m[08:01:04] src/tree/updater_prune.cc:74: tree pruning end, 1 roots, 52 extra nodes, 0 pruned nodes, max_depth=5\u001b[0m\n",
      "\u001b[34m[0]#011train-error:0.139857#011validation-error:0.148\u001b[0m\n",
      "\u001b[34m[08:01:04] src/tree/updater_prune.cc:74: tree pruning end, 1 roots, 52 extra nodes, 0 pruned nodes, max_depth=5\u001b[0m\n",
      "\u001b[34m[1]#011train-error:0.138143#011validation-error:0.142667\u001b[0m\n",
      "\u001b[34m[08:01:04] src/tree/updater_prune.cc:74: tree pruning end, 1 roots, 50 extra nodes, 0 pruned nodes, max_depth=5\u001b[0m\n",
      "\u001b[34m[2]#011train-error:0.138286#011validation-error:0.142667\u001b[0m\n",
      "\u001b[34m[08:01:04] src/tree/updater_prune.cc:74: tree pruning end, 1 roots, 54 extra nodes, 0 pruned nodes, max_depth=5\u001b[0m\n",
      "\u001b[34m[3]#011train-error:0.138143#011validation-error:0.142667\u001b[0m\n",
      "\u001b[34m[08:01:04] src/tree/updater_prune.cc:74: tree pruning end, 1 roots, 54 extra nodes, 0 pruned nodes, max_depth=5\u001b[0m\n",
      "\u001b[34m[4]#011train-error:0.138#011validation-error:0.142\u001b[0m\n",
      "\u001b[34m[08:01:04] src/tree/updater_prune.cc:74: tree pruning end, 1 roots, 54 extra nodes, 0 pruned nodes, max_depth=5\u001b[0m\n",
      "\u001b[34m[5]#011train-error:0.138#011validation-error:0.142\u001b[0m\n",
      "\u001b[34m[08:01:04] src/tree/updater_prune.cc:74: tree pruning end, 1 roots, 52 extra nodes, 0 pruned nodes, max_depth=5\u001b[0m\n",
      "\u001b[34m[6]#011train-error:0.138143#011validation-error:0.142\u001b[0m\n",
      "\u001b[34m[08:01:04] src/tree/updater_prune.cc:74: tree pruning end, 1 roots, 52 extra nodes, 0 pruned nodes, max_depth=5\u001b[0m\n",
      "\u001b[34m[7]#011train-error:0.138143#011validation-error:0.142\u001b[0m\n",
      "\u001b[34m[08:01:04] src/tree/updater_prune.cc:74: tree pruning end, 1 roots, 50 extra nodes, 0 pruned nodes, max_depth=5\u001b[0m\n",
      "\u001b[34m[8]#011train-error:0.137286#011validation-error:0.141333\u001b[0m\n",
      "\u001b[34m[08:01:04] src/tree/updater_prune.cc:74: tree pruning end, 1 roots, 56 extra nodes, 0 pruned nodes, max_depth=5\u001b[0m\n",
      "\u001b[34m[9]#011train-error:0.137286#011validation-error:0.141333\u001b[0m\n",
      "\u001b[34m[08:01:04] src/tree/updater_prune.cc:74: tree pruning end, 1 roots, 48 extra nodes, 0 pruned nodes, max_depth=5\u001b[0m\n",
      "\u001b[34m[10]#011train-error:0.137429#011validation-error:0.140667\u001b[0m\n",
      "\u001b[34m[08:01:04] src/tree/updater_prune.cc:74: tree pruning end, 1 roots, 50 extra nodes, 0 pruned nodes, max_depth=5\u001b[0m\n",
      "\u001b[34m[11]#011train-error:0.137143#011validation-error:0.140667\u001b[0m\n",
      "\u001b[34m[08:01:04] src/tree/updater_prune.cc:74: tree pruning end, 1 roots, 58 extra nodes, 0 pruned nodes, max_depth=5\u001b[0m\n",
      "\u001b[34m[12]#011train-error:0.136429#011validation-error:0.139333\u001b[0m\n",
      "\u001b[34m[08:01:04] src/tree/updater_prune.cc:74: tree pruning end, 1 roots, 52 extra nodes, 0 pruned nodes, max_depth=5\u001b[0m\n",
      "\u001b[34m[13]#011train-error:0.133857#011validation-error:0.139333\u001b[0m\n",
      "\u001b[34m[08:01:04] src/tree/updater_prune.cc:74: tree pruning end, 1 roots, 48 extra nodes, 0 pruned nodes, max_depth=5\u001b[0m\n",
      "\u001b[34m[14]#011train-error:0.134143#011validation-error:0.140667\u001b[0m\n",
      "\u001b[34m[08:01:04] src/tree/updater_prune.cc:74: tree pruning end, 1 roots, 50 extra nodes, 0 pruned nodes, max_depth=5\u001b[0m\n",
      "\u001b[34m[15]#011train-error:0.133286#011validation-error:0.14\u001b[0m\n",
      "\u001b[34m[08:01:04] src/tree/updater_prune.cc:74: tree pruning end, 1 roots, 56 extra nodes, 0 pruned nodes, max_depth=5\u001b[0m\n",
      "\u001b[34m[16]#011train-error:0.134#011validation-error:0.141333\u001b[0m\n",
      "\u001b[34m[08:01:04] src/tree/updater_prune.cc:74: tree pruning end, 1 roots, 50 extra nodes, 0 pruned nodes, max_depth=5\u001b[0m\n",
      "\u001b[34m[17]#011train-error:0.133429#011validation-error:0.140667\u001b[0m\n",
      "\u001b[34m[08:01:04] src/tree/updater_prune.cc:74: tree pruning end, 1 roots, 56 extra nodes, 0 pruned nodes, max_depth=5\u001b[0m\n",
      "\u001b[34m[18]#011train-error:0.133#011validation-error:0.141333\u001b[0m\n",
      "\u001b[34m[08:01:04] src/tree/updater_prune.cc:74: tree pruning end, 1 roots, 56 extra nodes, 0 pruned nodes, max_depth=5\u001b[0m\n",
      "\u001b[34m[19]#011train-error:0.132857#011validation-error:0.142667\u001b[0m\n",
      "\u001b[34m[08:01:04] src/tree/updater_prune.cc:74: tree pruning end, 1 roots, 50 extra nodes, 0 pruned nodes, max_depth=5\u001b[0m\n",
      "\u001b[34m[20]#011train-error:0.132857#011validation-error:0.142\u001b[0m\n",
      "\u001b[34m[08:01:04] src/tree/updater_prune.cc:74: tree pruning end, 1 roots, 56 extra nodes, 0 pruned nodes, max_depth=5\u001b[0m\n",
      "\u001b[34m[21]#011train-error:0.131286#011validation-error:0.138667\u001b[0m\n",
      "\u001b[34m[08:01:04] src/tree/updater_prune.cc:74: tree pruning end, 1 roots, 56 extra nodes, 0 pruned nodes, max_depth=5\u001b[0m\n",
      "\u001b[34m[22]#011train-error:0.131429#011validation-error:0.141333\u001b[0m\n",
      "\u001b[34m[08:01:04] src/tree/updater_prune.cc:74: tree pruning end, 1 roots, 60 extra nodes, 0 pruned nodes, max_depth=5\u001b[0m\n",
      "\u001b[34m[23]#011train-error:0.131714#011validation-error:0.140667\u001b[0m\n",
      "\u001b[34m[08:01:04] src/tree/updater_prune.cc:74: tree pruning end, 1 roots, 58 extra nodes, 0 pruned nodes, max_depth=5\u001b[0m\n",
      "\u001b[34m[24]#011train-error:0.129714#011validation-error:0.138667\u001b[0m\n",
      "\u001b[34m[08:01:04] src/tree/updater_prune.cc:74: tree pruning end, 1 roots, 52 extra nodes, 0 pruned nodes, max_depth=5\u001b[0m\n",
      "\u001b[34m[25]#011train-error:0.128286#011validation-error:0.136\u001b[0m\n",
      "\u001b[34m[08:01:04] src/tree/updater_prune.cc:74: tree pruning end, 1 roots, 60 extra nodes, 0 pruned nodes, max_depth=5\u001b[0m\n",
      "\u001b[34m[26]#011train-error:0.128857#011validation-error:0.138\u001b[0m\n",
      "\u001b[34m[08:01:04] src/tree/updater_prune.cc:74: tree pruning end, 1 roots, 40 extra nodes, 0 pruned nodes, max_depth=5\u001b[0m\n",
      "\u001b[34m[27]#011train-error:0.129143#011validation-error:0.139333\u001b[0m\n",
      "\u001b[34m[08:01:04] src/tree/updater_prune.cc:74: tree pruning end, 1 roots, 58 extra nodes, 0 pruned nodes, max_depth=5\u001b[0m\n",
      "\u001b[34m[28]#011train-error:0.128143#011validation-error:0.14\u001b[0m\n",
      "\u001b[34m[08:01:04] src/tree/updater_prune.cc:74: tree pruning end, 1 roots, 50 extra nodes, 0 pruned nodes, max_depth=5\u001b[0m\n",
      "\u001b[34m[29]#011train-error:0.127143#011validation-error:0.138667\u001b[0m\n",
      "\u001b[34m[08:01:04] src/tree/updater_prune.cc:74: tree pruning end, 1 roots, 46 extra nodes, 0 pruned nodes, max_depth=5\u001b[0m\n",
      "\u001b[34m[30]#011train-error:0.127#011validation-error:0.139333\u001b[0m\n",
      "\u001b[34m[08:01:04] src/tree/updater_prune.cc:74: tree pruning end, 1 roots, 50 extra nodes, 0 pruned nodes, max_depth=5\u001b[0m\n",
      "\u001b[34m[31]#011train-error:0.126857#011validation-error:0.14\u001b[0m\n",
      "\u001b[34m[08:01:04] src/tree/updater_prune.cc:74: tree pruning end, 1 roots, 46 extra nodes, 0 pruned nodes, max_depth=5\u001b[0m\n",
      "\u001b[34m[32]#011train-error:0.125857#011validation-error:0.141333\u001b[0m\n",
      "\u001b[34m[08:01:04] src/tree/updater_prune.cc:74: tree pruning end, 1 roots, 32 extra nodes, 0 pruned nodes, max_depth=5\u001b[0m\n",
      "\u001b[34m[33]#011train-error:0.125571#011validation-error:0.14\u001b[0m\n",
      "\u001b[34m[08:01:04] src/tree/updater_prune.cc:74: tree pruning end, 1 roots, 26 extra nodes, 0 pruned nodes, max_depth=5\u001b[0m\n",
      "\u001b[34m[34]#011train-error:0.124857#011validation-error:0.140667\u001b[0m\n",
      "\u001b[34m[08:01:04] src/tree/updater_prune.cc:74: tree pruning end, 1 roots, 44 extra nodes, 0 pruned nodes, max_depth=5\u001b[0m\n",
      "\u001b[34m[35]#011train-error:0.125286#011validation-error:0.140667\u001b[0m\n",
      "\u001b[34m[08:01:04] src/tree/updater_prune.cc:74: tree pruning end, 1 roots, 54 extra nodes, 0 pruned nodes, max_depth=5\u001b[0m\n",
      "\u001b[34m[36]#011train-error:0.125286#011validation-error:0.14\u001b[0m\n",
      "\u001b[34m[08:01:04] src/tree/updater_prune.cc:74: tree pruning end, 1 roots, 28 extra nodes, 0 pruned nodes, max_depth=5\u001b[0m\n",
      "\u001b[34m[37]#011train-error:0.125286#011validation-error:0.139333\u001b[0m\n",
      "\u001b[34m[08:01:04] src/tree/updater_prune.cc:74: tree pruning end, 1 roots, 40 extra nodes, 0 pruned nodes, max_depth=5\u001b[0m\n",
      "\u001b[34m[38]#011train-error:0.124857#011validation-error:0.139333\u001b[0m\n",
      "\u001b[34m[08:01:04] src/tree/updater_prune.cc:74: tree pruning end, 1 roots, 58 extra nodes, 0 pruned nodes, max_depth=5\u001b[0m\n",
      "\u001b[34m[39]#011train-error:0.124286#011validation-error:0.138667\u001b[0m\n",
      "\u001b[34m[08:01:04] src/tree/updater_prune.cc:74: tree pruning end, 1 roots, 40 extra nodes, 0 pruned nodes, max_depth=5\u001b[0m\n",
      "\u001b[34m[40]#011train-error:0.123857#011validation-error:0.139333\u001b[0m\n",
      "\u001b[34m[08:01:04] src/tree/updater_prune.cc:74: tree pruning end, 1 roots, 38 extra nodes, 0 pruned nodes, max_depth=5\u001b[0m\n",
      "\u001b[34m[41]#011train-error:0.123429#011validation-error:0.14\u001b[0m\n",
      "\u001b[34m[08:01:04] src/tree/updater_prune.cc:74: tree pruning end, 1 roots, 46 extra nodes, 0 pruned nodes, max_depth=5\u001b[0m\n",
      "\u001b[34m[42]#011train-error:0.122714#011validation-error:0.14\u001b[0m\n",
      "\u001b[34m[08:01:04] src/tree/updater_prune.cc:74: tree pruning end, 1 roots, 20 extra nodes, 0 pruned nodes, max_depth=5\u001b[0m\n",
      "\u001b[34m[43]#011train-error:0.122571#011validation-error:0.139333\u001b[0m\n",
      "\u001b[34m[08:01:04] src/tree/updater_prune.cc:74: tree pruning end, 1 roots, 40 extra nodes, 0 pruned nodes, max_depth=5\u001b[0m\n",
      "\u001b[34m[44]#011train-error:0.122714#011validation-error:0.140667\u001b[0m\n",
      "\u001b[34m[08:01:04] src/tree/updater_prune.cc:74: tree pruning end, 1 roots, 48 extra nodes, 0 pruned nodes, max_depth=5\u001b[0m\n",
      "\u001b[34m[45]#011train-error:0.121571#011validation-error:0.14\u001b[0m\n",
      "\u001b[34m[08:01:04] src/tree/updater_prune.cc:74: tree pruning end, 1 roots, 36 extra nodes, 0 pruned nodes, max_depth=5\u001b[0m\n",
      "\u001b[34m[46]#011train-error:0.121143#011validation-error:0.14\u001b[0m\n",
      "\u001b[34m[08:01:04] src/tree/updater_prune.cc:74: tree pruning end, 1 roots, 30 extra nodes, 0 pruned nodes, max_depth=5\u001b[0m\n",
      "\u001b[34m[47]#011train-error:0.121429#011validation-error:0.139333\u001b[0m\n",
      "\u001b[34m[08:01:04] src/tree/updater_prune.cc:74: tree pruning end, 1 roots, 42 extra nodes, 0 pruned nodes, max_depth=5\u001b[0m\n",
      "\u001b[34m[48]#011train-error:0.121#011validation-error:0.139333\u001b[0m\n",
      "\u001b[34m[08:01:04] src/tree/updater_prune.cc:74: tree pruning end, 1 roots, 42 extra nodes, 0 pruned nodes, max_depth=5\u001b[0m\n",
      "\u001b[34m[49]#011train-error:0.120429#011validation-error:0.139333\u001b[0m\n",
      "\u001b[34m[08:01:04] src/tree/updater_prune.cc:74: tree pruning end, 1 roots, 44 extra nodes, 0 pruned nodes, max_depth=5\u001b[0m\n",
      "\u001b[34m[50]#011train-error:0.120286#011validation-error:0.14\u001b[0m\n",
      "\u001b[34m[08:01:04] src/tree/updater_prune.cc:74: tree pruning end, 1 roots, 42 extra nodes, 0 pruned nodes, max_depth=5\u001b[0m\n",
      "\u001b[34m[51]#011train-error:0.119429#011validation-error:0.14\u001b[0m\n",
      "\u001b[34m[08:01:04] src/tree/updater_prune.cc:74: tree pruning end, 1 roots, 44 extra nodes, 0 pruned nodes, max_depth=5\u001b[0m\n",
      "\u001b[34m[52]#011train-error:0.119429#011validation-error:0.14\u001b[0m\n",
      "\u001b[34m[08:01:04] src/tree/updater_prune.cc:74: tree pruning end, 1 roots, 40 extra nodes, 0 pruned nodes, max_depth=5\u001b[0m\n",
      "\u001b[34m[53]#011train-error:0.119143#011validation-error:0.14\u001b[0m\n",
      "\u001b[34m[08:01:04] src/tree/updater_prune.cc:74: tree pruning end, 1 roots, 34 extra nodes, 0 pruned nodes, max_depth=5\u001b[0m\n",
      "\u001b[34m[54]#011train-error:0.119143#011validation-error:0.139333\u001b[0m\n",
      "\u001b[34m[08:01:04] src/tree/updater_prune.cc:74: tree pruning end, 1 roots, 34 extra nodes, 0 pruned nodes, max_depth=5\u001b[0m\n",
      "\u001b[34m[55]#011train-error:0.118429#011validation-error:0.14\u001b[0m\n",
      "\u001b[34m[08:01:04] src/tree/updater_prune.cc:74: tree pruning end, 1 roots, 54 extra nodes, 0 pruned nodes, max_depth=5\u001b[0m\n",
      "\u001b[34m[56]#011train-error:0.118714#011validation-error:0.14\u001b[0m\n",
      "\u001b[34m[08:01:04] src/tree/updater_prune.cc:74: tree pruning end, 1 roots, 46 extra nodes, 0 pruned nodes, max_depth=5\u001b[0m\n",
      "\u001b[34m[57]#011train-error:0.118286#011validation-error:0.141333\u001b[0m\n",
      "\u001b[34m[08:01:04] src/tree/updater_prune.cc:74: tree pruning end, 1 roots, 32 extra nodes, 0 pruned nodes, max_depth=5\u001b[0m\n",
      "\u001b[34m[58]#011train-error:0.117857#011validation-error:0.141333\u001b[0m\n",
      "\u001b[34m[08:01:04] src/tree/updater_prune.cc:74: tree pruning end, 1 roots, 54 extra nodes, 0 pruned nodes, max_depth=5\u001b[0m\n",
      "\u001b[34m[59]#011train-error:0.117429#011validation-error:0.140667\u001b[0m\n",
      "\u001b[34m[08:01:04] src/tree/updater_prune.cc:74: tree pruning end, 1 roots, 28 extra nodes, 0 pruned nodes, max_depth=5\u001b[0m\n",
      "\u001b[34m[60]#011train-error:0.117286#011validation-error:0.140667\u001b[0m\n",
      "\u001b[34m[08:01:04] src/tree/updater_prune.cc:74: tree pruning end, 1 roots, 28 extra nodes, 0 pruned nodes, max_depth=5\u001b[0m\n",
      "\u001b[34m[61]#011train-error:0.117571#011validation-error:0.140667\u001b[0m\n",
      "\u001b[34m[08:01:04] src/tree/updater_prune.cc:74: tree pruning end, 1 roots, 44 extra nodes, 0 pruned nodes, max_depth=5\u001b[0m\n",
      "\u001b[34m[62]#011train-error:0.117#011validation-error:0.140667\u001b[0m\n",
      "\u001b[34m[08:01:04] src/tree/updater_prune.cc:74: tree pruning end, 1 roots, 16 extra nodes, 0 pruned nodes, max_depth=5\u001b[0m\n",
      "\u001b[34m[63]#011train-error:0.116571#011validation-error:0.140667\u001b[0m\n",
      "\u001b[34m[08:01:04] src/tree/updater_prune.cc:74: tree pruning end, 1 roots, 22 extra nodes, 0 pruned nodes, max_depth=5\u001b[0m\n",
      "\u001b[34m[64]#011train-error:0.116857#011validation-error:0.14\u001b[0m\n",
      "\u001b[34m[08:01:04] src/tree/updater_prune.cc:74: tree pruning end, 1 roots, 20 extra nodes, 0 pruned nodes, max_depth=5\u001b[0m\n",
      "\u001b[34m[65]#011train-error:0.116571#011validation-error:0.139333\u001b[0m\n",
      "\u001b[34m[08:01:04] src/tree/updater_prune.cc:74: tree pruning end, 1 roots, 32 extra nodes, 0 pruned nodes, max_depth=5\u001b[0m\n",
      "\u001b[34m[66]#011train-error:0.116429#011validation-error:0.139333\u001b[0m\n",
      "\u001b[34m[08:01:04] src/tree/updater_prune.cc:74: tree pruning end, 1 roots, 42 extra nodes, 0 pruned nodes, max_depth=5\u001b[0m\n",
      "\u001b[34m[67]#011train-error:0.115714#011validation-error:0.138667\u001b[0m\n",
      "\u001b[34m[08:01:04] src/tree/updater_prune.cc:74: tree pruning end, 1 roots, 28 extra nodes, 0 pruned nodes, max_depth=5\u001b[0m\n",
      "\u001b[34m[68]#011train-error:0.115714#011validation-error:0.138667\u001b[0m\n",
      "\u001b[34m[08:01:04] src/tree/updater_prune.cc:74: tree pruning end, 1 roots, 28 extra nodes, 0 pruned nodes, max_depth=5\u001b[0m\n",
      "\u001b[34m[69]#011train-error:0.116143#011validation-error:0.138667\u001b[0m\n",
      "\u001b[34m[08:01:04] src/tree/updater_prune.cc:74: tree pruning end, 1 roots, 40 extra nodes, 0 pruned nodes, max_depth=5\u001b[0m\n",
      "\u001b[34m[70]#011train-error:0.115143#011validation-error:0.138667\u001b[0m\n",
      "\u001b[34m[08:01:04] src/tree/updater_prune.cc:74: tree pruning end, 1 roots, 50 extra nodes, 0 pruned nodes, max_depth=5\u001b[0m\n",
      "\u001b[34m[71]#011train-error:0.115286#011validation-error:0.138667\u001b[0m\n",
      "\u001b[34m[08:01:04] src/tree/updater_prune.cc:74: tree pruning end, 1 roots, 18 extra nodes, 0 pruned nodes, max_depth=5\u001b[0m\n",
      "\u001b[34m[72]#011train-error:0.114143#011validation-error:0.139333\u001b[0m\n",
      "\u001b[34m[08:01:04] src/tree/updater_prune.cc:74: tree pruning end, 1 roots, 36 extra nodes, 0 pruned nodes, max_depth=5\u001b[0m\n",
      "\u001b[34m[73]#011train-error:0.114143#011validation-error:0.139333\u001b[0m\n",
      "\u001b[34m[08:01:04] src/tree/updater_prune.cc:74: tree pruning end, 1 roots, 18 extra nodes, 0 pruned nodes, max_depth=5\u001b[0m\n",
      "\u001b[34m[74]#011train-error:0.113857#011validation-error:0.139333\u001b[0m\n",
      "\u001b[34m[08:01:04] src/tree/updater_prune.cc:74: tree pruning end, 1 roots, 38 extra nodes, 0 pruned nodes, max_depth=5\u001b[0m\n",
      "\u001b[34m[75]#011train-error:0.114#011validation-error:0.138667\u001b[0m\n",
      "\u001b[34m[08:01:04] src/tree/updater_prune.cc:74: tree pruning end, 1 roots, 28 extra nodes, 0 pruned nodes, max_depth=5\u001b[0m\n",
      "\u001b[34m[76]#011train-error:0.114143#011validation-error:0.138667\u001b[0m\n",
      "\u001b[34m[08:01:04] src/tree/updater_prune.cc:74: tree pruning end, 1 roots, 28 extra nodes, 0 pruned nodes, max_depth=5\u001b[0m\n",
      "\u001b[34m[77]#011train-error:0.114714#011validation-error:0.138667\u001b[0m\n",
      "\u001b[34m[08:01:04] src/tree/updater_prune.cc:74: tree pruning end, 1 roots, 24 extra nodes, 0 pruned nodes, max_depth=5\u001b[0m\n",
      "\u001b[34m[78]#011train-error:0.114143#011validation-error:0.138\u001b[0m\n",
      "\u001b[34m[08:01:04] src/tree/updater_prune.cc:74: tree pruning end, 1 roots, 34 extra nodes, 0 pruned nodes, max_depth=5\u001b[0m\n",
      "\u001b[34m[79]#011train-error:0.113857#011validation-error:0.138\u001b[0m\n",
      "\u001b[34m[08:01:04] src/tree/updater_prune.cc:74: tree pruning end, 1 roots, 50 extra nodes, 0 pruned nodes, max_depth=5\u001b[0m\n",
      "\u001b[34m[80]#011train-error:0.112857#011validation-error:0.138\u001b[0m\n",
      "\u001b[34m[08:01:04] src/tree/updater_prune.cc:74: tree pruning end, 1 roots, 26 extra nodes, 0 pruned nodes, max_depth=5\u001b[0m\n",
      "\u001b[34m[81]#011train-error:0.112571#011validation-error:0.137333\u001b[0m\n",
      "\u001b[34m[08:01:04] src/tree/updater_prune.cc:74: tree pruning end, 1 roots, 28 extra nodes, 0 pruned nodes, max_depth=5\u001b[0m\n",
      "\u001b[34m[82]#011train-error:0.112714#011validation-error:0.136667\u001b[0m\n",
      "\u001b[34m[08:01:04] src/tree/updater_prune.cc:74: tree pruning end, 1 roots, 18 extra nodes, 0 pruned nodes, max_depth=5\u001b[0m\n",
      "\u001b[34m[83]#011train-error:0.112714#011validation-error:0.136667\u001b[0m\n",
      "\u001b[34m[08:01:04] src/tree/updater_prune.cc:74: tree pruning end, 1 roots, 30 extra nodes, 0 pruned nodes, max_depth=5\u001b[0m\n",
      "\u001b[34m[84]#011train-error:0.112571#011validation-error:0.136667\u001b[0m\n",
      "\u001b[34m[08:01:04] src/tree/updater_prune.cc:74: tree pruning end, 1 roots, 54 extra nodes, 0 pruned nodes, max_depth=5\u001b[0m\n",
      "\u001b[34m[85]#011train-error:0.112143#011validation-error:0.136667\u001b[0m\n",
      "\u001b[34m[08:01:04] src/tree/updater_prune.cc:74: tree pruning end, 1 roots, 32 extra nodes, 0 pruned nodes, max_depth=5\u001b[0m\n",
      "\u001b[34m[86]#011train-error:0.112#011validation-error:0.136667\u001b[0m\n",
      "\u001b[34m[08:01:04] src/tree/updater_prune.cc:74: tree pruning end, 1 roots, 32 extra nodes, 0 pruned nodes, max_depth=5\u001b[0m\n",
      "\u001b[34m[87]#011train-error:0.111857#011validation-error:0.136667\u001b[0m\n",
      "\u001b[34m[08:01:04] src/tree/updater_prune.cc:74: tree pruning end, 1 roots, 32 extra nodes, 0 pruned nodes, max_depth=5\u001b[0m\n",
      "\u001b[34m[88]#011train-error:0.111571#011validation-error:0.136667\u001b[0m\n",
      "\u001b[34m[08:01:04] src/tree/updater_prune.cc:74: tree pruning end, 1 roots, 12 extra nodes, 0 pruned nodes, max_depth=5\u001b[0m\n",
      "\u001b[34m[89]#011train-error:0.111571#011validation-error:0.136667\u001b[0m\n",
      "\u001b[34m[08:01:04] src/tree/updater_prune.cc:74: tree pruning end, 1 roots, 30 extra nodes, 0 pruned nodes, max_depth=5\u001b[0m\n",
      "\u001b[34m[90]#011train-error:0.111714#011validation-error:0.136\u001b[0m\n",
      "\u001b[34m[08:01:04] src/tree/updater_prune.cc:74: tree pruning end, 1 roots, 56 extra nodes, 0 pruned nodes, max_depth=5\u001b[0m\n",
      "\u001b[34m[91]#011train-error:0.111286#011validation-error:0.137333\u001b[0m\n",
      "\u001b[34m[08:01:04] src/tree/updater_prune.cc:74: tree pruning end, 1 roots, 46 extra nodes, 0 pruned nodes, max_depth=5\u001b[0m\n",
      "\u001b[34m[92]#011train-error:0.111143#011validation-error:0.137333\u001b[0m\n",
      "\u001b[34m[08:01:04] src/tree/updater_prune.cc:74: tree pruning end, 1 roots, 50 extra nodes, 0 pruned nodes, max_depth=5\u001b[0m\n",
      "\u001b[34m[93]#011train-error:0.110571#011validation-error:0.136667\u001b[0m\n",
      "\u001b[34m[08:01:04] src/tree/updater_prune.cc:74: tree pruning end, 1 roots, 38 extra nodes, 0 pruned nodes, max_depth=5\u001b[0m\n",
      "\u001b[34m[94]#011train-error:0.109857#011validation-error:0.136667\u001b[0m\n",
      "\u001b[34m[08:01:04] src/tree/updater_prune.cc:74: tree pruning end, 1 roots, 46 extra nodes, 0 pruned nodes, max_depth=5\u001b[0m\n",
      "\u001b[34m[95]#011train-error:0.109714#011validation-error:0.136667\u001b[0m\n",
      "\u001b[34m[08:01:04] src/tree/updater_prune.cc:74: tree pruning end, 1 roots, 28 extra nodes, 0 pruned nodes, max_depth=5\u001b[0m\n",
      "\u001b[34m[96]#011train-error:0.109714#011validation-error:0.136667\u001b[0m\n",
      "\u001b[34m[08:01:04] src/tree/updater_prune.cc:74: tree pruning end, 1 roots, 56 extra nodes, 0 pruned nodes, max_depth=5\u001b[0m\n",
      "\u001b[34m[97]#011train-error:0.109286#011validation-error:0.136667\u001b[0m\n",
      "\u001b[34m[08:01:04] src/tree/updater_prune.cc:74: tree pruning end, 1 roots, 28 extra nodes, 0 pruned nodes, max_depth=5\u001b[0m\n",
      "\u001b[34m[98]#011train-error:0.109286#011validation-error:0.136667\u001b[0m\n",
      "\u001b[34m[08:01:04] src/tree/updater_prune.cc:74: tree pruning end, 1 roots, 20 extra nodes, 0 pruned nodes, max_depth=5\u001b[0m\n",
      "\u001b[34m[99]#011train-error:0.109429#011validation-error:0.136667\u001b[0m\n",
      "\u001b[34m[08:01:04] src/tree/updater_prune.cc:74: tree pruning end, 1 roots, 30 extra nodes, 0 pruned nodes, max_depth=5\u001b[0m\n",
      "\u001b[34m[100]#011train-error:0.109143#011validation-error:0.136667\u001b[0m\n",
      "\u001b[34m[08:01:04] src/tree/updater_prune.cc:74: tree pruning end, 1 roots, 46 extra nodes, 0 pruned nodes, max_depth=5\u001b[0m\n",
      "\u001b[34m[101]#011train-error:0.109#011validation-error:0.136667\u001b[0m\n",
      "\u001b[34m[08:01:04] src/tree/updater_prune.cc:74: tree pruning end, 1 roots, 28 extra nodes, 0 pruned nodes, max_depth=5\u001b[0m\n",
      "\u001b[34m[102]#011train-error:0.109#011validation-error:0.136667\u001b[0m\n",
      "\u001b[34m[08:01:04] src/tree/updater_prune.cc:74: tree pruning end, 1 roots, 16 extra nodes, 0 pruned nodes, max_depth=5\u001b[0m\n",
      "\u001b[34m[103]#011train-error:0.109#011validation-error:0.136667\u001b[0m\n",
      "\u001b[34m[08:01:04] src/tree/updater_prune.cc:74: tree pruning end, 1 roots, 12 extra nodes, 0 pruned nodes, max_depth=5\u001b[0m\n",
      "\u001b[34m[104]#011train-error:0.109#011validation-error:0.136667\u001b[0m\n",
      "\u001b[34m[08:01:04] src/tree/updater_prune.cc:74: tree pruning end, 1 roots, 20 extra nodes, 0 pruned nodes, max_depth=5\u001b[0m\n",
      "\u001b[34m[105]#011train-error:0.108857#011validation-error:0.136667\u001b[0m\n",
      "\u001b[34m[08:01:04] src/tree/updater_prune.cc:74: tree pruning end, 1 roots, 38 extra nodes, 0 pruned nodes, max_depth=5\u001b[0m\n",
      "\u001b[34m[106]#011train-error:0.108429#011validation-error:0.136667\u001b[0m\n",
      "\u001b[34m[08:01:04] src/tree/updater_prune.cc:74: tree pruning end, 1 roots, 46 extra nodes, 0 pruned nodes, max_depth=5\u001b[0m\n",
      "\u001b[34m[107]#011train-error:0.108#011validation-error:0.138\u001b[0m\n",
      "\u001b[34m[08:01:04] src/tree/updater_prune.cc:74: tree pruning end, 1 roots, 46 extra nodes, 0 pruned nodes, max_depth=5\u001b[0m\n",
      "\u001b[34m[108]#011train-error:0.107286#011validation-error:0.138\u001b[0m\n",
      "\u001b[34m[08:01:04] src/tree/updater_prune.cc:74: tree pruning end, 1 roots, 44 extra nodes, 0 pruned nodes, max_depth=5\u001b[0m\n",
      "\u001b[34m[109]#011train-error:0.107143#011validation-error:0.138\u001b[0m\n",
      "\u001b[34m[08:01:04] src/tree/updater_prune.cc:74: tree pruning end, 1 roots, 44 extra nodes, 0 pruned nodes, max_depth=5\u001b[0m\n",
      "\u001b[34m[110]#011train-error:0.107143#011validation-error:0.138\u001b[0m\n",
      "\u001b[34m[08:01:04] src/tree/updater_prune.cc:74: tree pruning end, 1 roots, 50 extra nodes, 0 pruned nodes, max_depth=5\u001b[0m\n",
      "\u001b[34m[111]#011train-error:0.107143#011validation-error:0.138\u001b[0m\n",
      "\u001b[34m[08:01:04] src/tree/updater_prune.cc:74: tree pruning end, 1 roots, 20 extra nodes, 0 pruned nodes, max_depth=5\u001b[0m\n",
      "\u001b[34m[112]#011train-error:0.107143#011validation-error:0.138667\u001b[0m\n",
      "\u001b[34m[08:01:04] src/tree/updater_prune.cc:74: tree pruning end, 1 roots, 36 extra nodes, 0 pruned nodes, max_depth=5\u001b[0m\n",
      "\u001b[34m[113]#011train-error:0.106714#011validation-error:0.138667\u001b[0m\n",
      "\u001b[34m[08:01:04] src/tree/updater_prune.cc:74: tree pruning end, 1 roots, 44 extra nodes, 0 pruned nodes, max_depth=5\u001b[0m\n",
      "\u001b[34m[114]#011train-error:0.106571#011validation-error:0.138\u001b[0m\n",
      "\u001b[34m[08:01:04] src/tree/updater_prune.cc:74: tree pruning end, 1 roots, 12 extra nodes, 0 pruned nodes, max_depth=5\u001b[0m\n",
      "\u001b[34m[115]#011train-error:0.106571#011validation-error:0.138\u001b[0m\n",
      "\u001b[34m[08:01:04] src/tree/updater_prune.cc:74: tree pruning end, 1 roots, 20 extra nodes, 0 pruned nodes, max_depth=5\u001b[0m\n",
      "\u001b[34m[116]#011train-error:0.106429#011validation-error:0.138667\u001b[0m\n",
      "\u001b[34m[08:01:04] src/tree/updater_prune.cc:74: tree pruning end, 1 roots, 12 extra nodes, 0 pruned nodes, max_depth=5\u001b[0m\n",
      "\u001b[34m[117]#011train-error:0.106429#011validation-error:0.138667\u001b[0m\n",
      "\u001b[34m[08:01:04] src/tree/updater_prune.cc:74: tree pruning end, 1 roots, 28 extra nodes, 0 pruned nodes, max_depth=5\u001b[0m\n",
      "\u001b[34m[118]#011train-error:0.106143#011validation-error:0.138667\u001b[0m\n",
      "\u001b[34m[08:01:04] src/tree/updater_prune.cc:74: tree pruning end, 1 roots, 44 extra nodes, 0 pruned nodes, max_depth=5\u001b[0m\n",
      "\u001b[34m[119]#011train-error:0.106#011validation-error:0.138667\u001b[0m\n",
      "\u001b[34m[08:01:04] src/tree/updater_prune.cc:74: tree pruning end, 1 roots, 46 extra nodes, 0 pruned nodes, max_depth=5\u001b[0m\n",
      "\u001b[34m[120]#011train-error:0.105#011validation-error:0.138667\u001b[0m\n",
      "\u001b[34m[08:01:04] src/tree/updater_prune.cc:74: tree pruning end, 1 roots, 50 extra nodes, 0 pruned nodes, max_depth=5\u001b[0m\n",
      "\u001b[34m[121]#011train-error:0.104429#011validation-error:0.138667\u001b[0m\n",
      "\u001b[34m[08:01:04] src/tree/updater_prune.cc:74: tree pruning end, 1 roots, 46 extra nodes, 0 pruned nodes, max_depth=5\u001b[0m\n",
      "\u001b[34m[122]#011train-error:0.104286#011validation-error:0.138667\u001b[0m\n",
      "\u001b[34m[08:01:04] src/tree/updater_prune.cc:74: tree pruning end, 1 roots, 38 extra nodes, 0 pruned nodes, max_depth=5\u001b[0m\n",
      "\u001b[34m[123]#011train-error:0.103857#011validation-error:0.138667\u001b[0m\n",
      "\u001b[34m[08:01:04] src/tree/updater_prune.cc:74: tree pruning end, 1 roots, 44 extra nodes, 0 pruned nodes, max_depth=5\u001b[0m\n",
      "\u001b[34m[124]#011train-error:0.103857#011validation-error:0.138667\u001b[0m\n",
      "\u001b[34m[08:01:04] src/tree/updater_prune.cc:74: tree pruning end, 1 roots, 24 extra nodes, 0 pruned nodes, max_depth=5\u001b[0m\n",
      "\u001b[34m[125]#011train-error:0.103571#011validation-error:0.138667\u001b[0m\n",
      "\u001b[34m[08:01:04] src/tree/updater_prune.cc:74: tree pruning end, 1 roots, 50 extra nodes, 0 pruned nodes, max_depth=5\u001b[0m\n",
      "\u001b[34m[126]#011train-error:0.103714#011validation-error:0.139333\u001b[0m\n",
      "\u001b[34m[08:01:04] src/tree/updater_prune.cc:74: tree pruning end, 1 roots, 36 extra nodes, 0 pruned nodes, max_depth=5\u001b[0m\n",
      "\u001b[34m[127]#011train-error:0.103571#011validation-error:0.139333\u001b[0m\n",
      "\u001b[34m[08:01:04] src/tree/updater_prune.cc:74: tree pruning end, 1 roots, 44 extra nodes, 0 pruned nodes, max_depth=5\u001b[0m\n",
      "\u001b[34m[128]#011train-error:0.103286#011validation-error:0.139333\u001b[0m\n",
      "\u001b[34m[08:01:04] src/tree/updater_prune.cc:74: tree pruning end, 1 roots, 22 extra nodes, 0 pruned nodes, max_depth=5\u001b[0m\n",
      "\u001b[34m[129]#011train-error:0.102857#011validation-error:0.14\u001b[0m\n",
      "\u001b[34m[08:01:04] src/tree/updater_prune.cc:74: tree pruning end, 1 roots, 38 extra nodes, 0 pruned nodes, max_depth=5\u001b[0m\n",
      "\u001b[34m[130]#011train-error:0.102286#011validation-error:0.139333\u001b[0m\n",
      "\u001b[34m[08:01:04] src/tree/updater_prune.cc:74: tree pruning end, 1 roots, 48 extra nodes, 0 pruned nodes, max_depth=5\u001b[0m\n",
      "\u001b[34m[131]#011train-error:0.102286#011validation-error:0.139333\u001b[0m\n",
      "\u001b[34m[08:01:04] src/tree/updater_prune.cc:74: tree pruning end, 1 roots, 14 extra nodes, 0 pruned nodes, max_depth=5\u001b[0m\n",
      "\u001b[34m[132]#011train-error:0.102143#011validation-error:0.139333\u001b[0m\n",
      "\u001b[34m[08:01:04] src/tree/updater_prune.cc:74: tree pruning end, 1 roots, 46 extra nodes, 0 pruned nodes, max_depth=5\u001b[0m\n",
      "\u001b[34m[133]#011train-error:0.102#011validation-error:0.14\u001b[0m\n",
      "\u001b[34m[08:01:04] src/tree/updater_prune.cc:74: tree pruning end, 1 roots, 22 extra nodes, 0 pruned nodes, max_depth=5\u001b[0m\n",
      "\u001b[34m[134]#011train-error:0.102#011validation-error:0.14\u001b[0m\n",
      "\u001b[34m[08:01:04] src/tree/updater_prune.cc:74: tree pruning end, 1 roots, 40 extra nodes, 0 pruned nodes, max_depth=5\u001b[0m\n",
      "\u001b[34m[135]#011train-error:0.101857#011validation-error:0.139333\u001b[0m\n",
      "\u001b[34m[08:01:04] src/tree/updater_prune.cc:74: tree pruning end, 1 roots, 18 extra nodes, 0 pruned nodes, max_depth=5\u001b[0m\n",
      "\u001b[34m[136]#011train-error:0.101429#011validation-error:0.14\u001b[0m\n",
      "\u001b[34m[08:01:05] src/tree/updater_prune.cc:74: tree pruning end, 1 roots, 58 extra nodes, 0 pruned nodes, max_depth=5\u001b[0m\n",
      "\u001b[34m[137]#011train-error:0.100571#011validation-error:0.139333\u001b[0m\n",
      "\u001b[34m[08:01:05] src/tree/updater_prune.cc:74: tree pruning end, 1 roots, 16 extra nodes, 0 pruned nodes, max_depth=5\u001b[0m\n",
      "\u001b[34m[138]#011train-error:0.100429#011validation-error:0.139333\u001b[0m\n",
      "\u001b[34m[08:01:05] src/tree/updater_prune.cc:74: tree pruning end, 1 roots, 34 extra nodes, 0 pruned nodes, max_depth=5\u001b[0m\n",
      "\u001b[34m[139]#011train-error:0.100143#011validation-error:0.139333\u001b[0m\n",
      "\u001b[34m[08:01:05] src/tree/updater_prune.cc:74: tree pruning end, 1 roots, 24 extra nodes, 0 pruned nodes, max_depth=5\u001b[0m\n",
      "\u001b[34m[140]#011train-error:0.100143#011validation-error:0.138667\u001b[0m\n",
      "\u001b[34m[08:01:05] src/tree/updater_prune.cc:74: tree pruning end, 1 roots, 48 extra nodes, 0 pruned nodes, max_depth=5\u001b[0m\n",
      "\u001b[34m[141]#011train-error:0.099714#011validation-error:0.138667\u001b[0m\n",
      "\u001b[34m[08:01:05] src/tree/updater_prune.cc:74: tree pruning end, 1 roots, 48 extra nodes, 0 pruned nodes, max_depth=5\u001b[0m\n",
      "\u001b[34m[142]#011train-error:0.099286#011validation-error:0.139333\u001b[0m\n",
      "\u001b[34m[08:01:05] src/tree/updater_prune.cc:74: tree pruning end, 1 roots, 20 extra nodes, 0 pruned nodes, max_depth=5\u001b[0m\n",
      "\u001b[34m[143]#011train-error:0.099286#011validation-error:0.139333\u001b[0m\n",
      "\u001b[34m[08:01:05] src/tree/updater_prune.cc:74: tree pruning end, 1 roots, 50 extra nodes, 0 pruned nodes, max_depth=5\u001b[0m\n",
      "\u001b[34m[144]#011train-error:0.099143#011validation-error:0.139333\u001b[0m\n",
      "\u001b[34m[08:01:05] src/tree/updater_prune.cc:74: tree pruning end, 1 roots, 42 extra nodes, 0 pruned nodes, max_depth=5\u001b[0m\n",
      "\u001b[34m[145]#011train-error:0.099#011validation-error:0.139333\u001b[0m\n",
      "\u001b[34m[08:01:05] src/tree/updater_prune.cc:74: tree pruning end, 1 roots, 16 extra nodes, 0 pruned nodes, max_depth=5\u001b[0m\n",
      "\u001b[34m[146]#011train-error:0.099#011validation-error:0.139333\u001b[0m\n",
      "\u001b[34m[08:01:05] src/tree/updater_prune.cc:74: tree pruning end, 1 roots, 12 extra nodes, 0 pruned nodes, max_depth=5\u001b[0m\n",
      "\u001b[34m[147]#011train-error:0.098857#011validation-error:0.139333\u001b[0m\n",
      "\u001b[34m[08:01:05] src/tree/updater_prune.cc:74: tree pruning end, 1 roots, 50 extra nodes, 0 pruned nodes, max_depth=5\u001b[0m\n",
      "\u001b[34m[148]#011train-error:0.098#011validation-error:0.138667\u001b[0m\n",
      "\u001b[34m[08:01:05] src/tree/updater_prune.cc:74: tree pruning end, 1 roots, 42 extra nodes, 0 pruned nodes, max_depth=5\u001b[0m\n",
      "\u001b[34m[149]#011train-error:0.097429#011validation-error:0.138\u001b[0m\n"
     ]
    },
    {
     "name": "stdout",
     "output_type": "stream",
     "text": [
      "Training seconds: 67\n",
      "Billable seconds: 67\n"
     ]
    }
   ],
   "source": [
    "estimator.fit(data_channels)"
   ]
  },
  {
   "cell_type": "code",
   "execution_count": null,
   "metadata": {},
   "outputs": [],
   "source": [
    "xgb_predictor = estimator.deploy(initial_instance_count=1,\n",
    "                                content_type='text/csv',\n",
    "                                instance_type='ml.t2.medium',\n",
    "                                endpoint_name = 'xgboost-churn-v1'\n",
    "                                )"
   ]
  },
  {
   "cell_type": "code",
   "execution_count": null,
   "metadata": {},
   "outputs": [],
   "source": [
    "endpoint_name = 'xgboost-churn-v1'\n",
    "predictor = sagemaker.predictor.RealTimePredictor(endpoint=endpoint_name)"
   ]
  },
  {
   "cell_type": "code",
   "execution_count": null,
   "metadata": {},
   "outputs": [],
   "source": [
    "from sagemaker.predictor import csv_serializer, json_deserializer\n",
    "\n",
    "predictor.content_type = 'text/csv'\n",
    "predictor.serializer = csv_serializer\n",
    "predictor.deserializer = None"
   ]
  },
  {
   "cell_type": "code",
   "execution_count": 23,
   "metadata": {},
   "outputs": [],
   "source": [
    "df_all = pd.read_csv('test.csv')"
   ]
  },
  {
   "cell_type": "code",
   "execution_count": 24,
   "metadata": {
    "collapsed": true
   },
   "outputs": [
    {
     "data": {
      "text/html": [
       "<div>\n",
       "<style scoped>\n",
       "    .dataframe tbody tr th:only-of-type {\n",
       "        vertical-align: middle;\n",
       "    }\n",
       "\n",
       "    .dataframe tbody tr th {\n",
       "        vertical-align: top;\n",
       "    }\n",
       "\n",
       "    .dataframe thead th {\n",
       "        text-align: right;\n",
       "    }\n",
       "</style>\n",
       "<table border=\"1\" class=\"dataframe\">\n",
       "  <thead>\n",
       "    <tr style=\"text-align: right;\">\n",
       "      <th></th>\n",
       "      <th>-1.0028039309990795</th>\n",
       "      <th>-0.5787359118285802</th>\n",
       "      <th>1.7427397119690895</th>\n",
       "      <th>-0.9124191495230279</th>\n",
       "      <th>0.912419149523028</th>\n",
       "      <th>-0.057205253550936634</th>\n",
       "      <th>0.4842246042993514</th>\n",
       "      <th>1.0329077647974714</th>\n",
       "      <th>0.5973285944410451</th>\n",
       "      <th>0.8077365626180174</th>\n",
       "      <th>0.6460916681531842</th>\n",
       "      <th>-1.030670113400118</th>\n",
       "      <th>0.8636502870218121</th>\n",
       "      <th>1.0</th>\n",
       "    </tr>\n",
       "  </thead>\n",
       "  <tbody>\n",
       "    <tr>\n",
       "      <th>0</th>\n",
       "      <td>0.997204</td>\n",
       "      <td>-0.578736</td>\n",
       "      <td>-0.573809</td>\n",
       "      <td>-0.912419</td>\n",
       "      <td>0.912419</td>\n",
       "      <td>-1.267778</td>\n",
       "      <td>-0.755372</td>\n",
       "      <td>0.341352</td>\n",
       "      <td>0.409185</td>\n",
       "      <td>0.807737</td>\n",
       "      <td>-1.547768</td>\n",
       "      <td>-1.030670</td>\n",
       "      <td>-0.346200</td>\n",
       "      <td>0.0</td>\n",
       "    </tr>\n",
       "    <tr>\n",
       "      <th>1</th>\n",
       "      <td>0.997204</td>\n",
       "      <td>-0.578736</td>\n",
       "      <td>-0.573809</td>\n",
       "      <td>1.095988</td>\n",
       "      <td>-1.095988</td>\n",
       "      <td>-1.050496</td>\n",
       "      <td>-1.327494</td>\n",
       "      <td>-0.004426</td>\n",
       "      <td>-1.225848</td>\n",
       "      <td>0.807737</td>\n",
       "      <td>-1.547768</td>\n",
       "      <td>-1.030670</td>\n",
       "      <td>1.578357</td>\n",
       "      <td>0.0</td>\n",
       "    </tr>\n",
       "    <tr>\n",
       "      <th>2</th>\n",
       "      <td>-1.002804</td>\n",
       "      <td>-0.578736</td>\n",
       "      <td>1.742740</td>\n",
       "      <td>1.095988</td>\n",
       "      <td>-1.095988</td>\n",
       "      <td>-0.160673</td>\n",
       "      <td>-0.373958</td>\n",
       "      <td>0.687130</td>\n",
       "      <td>-1.225848</td>\n",
       "      <td>0.807737</td>\n",
       "      <td>0.646092</td>\n",
       "      <td>0.970243</td>\n",
       "      <td>-0.593636</td>\n",
       "      <td>0.0</td>\n",
       "    </tr>\n",
       "    <tr>\n",
       "      <th>3</th>\n",
       "      <td>-1.002804</td>\n",
       "      <td>1.727904</td>\n",
       "      <td>-0.573809</td>\n",
       "      <td>-0.912419</td>\n",
       "      <td>0.912419</td>\n",
       "      <td>0.025569</td>\n",
       "      <td>1.819175</td>\n",
       "      <td>-1.387538</td>\n",
       "      <td>0.899393</td>\n",
       "      <td>-0.911583</td>\n",
       "      <td>0.646092</td>\n",
       "      <td>-1.030670</td>\n",
       "      <td>-1.651826</td>\n",
       "      <td>1.0</td>\n",
       "    </tr>\n",
       "    <tr>\n",
       "      <th>4</th>\n",
       "      <td>0.997204</td>\n",
       "      <td>-0.578736</td>\n",
       "      <td>-0.573809</td>\n",
       "      <td>-0.912419</td>\n",
       "      <td>0.912419</td>\n",
       "      <td>0.842964</td>\n",
       "      <td>0.198164</td>\n",
       "      <td>1.032908</td>\n",
       "      <td>-1.225848</td>\n",
       "      <td>0.807737</td>\n",
       "      <td>0.646092</td>\n",
       "      <td>0.970243</td>\n",
       "      <td>1.231070</td>\n",
       "      <td>0.0</td>\n",
       "    </tr>\n",
       "  </tbody>\n",
       "</table>\n",
       "</div>"
      ],
      "text/plain": [
       "   -1.0028039309990795  -0.5787359118285802  1.7427397119690895  \\\n",
       "0             0.997204            -0.578736           -0.573809   \n",
       "1             0.997204            -0.578736           -0.573809   \n",
       "2            -1.002804            -0.578736            1.742740   \n",
       "3            -1.002804             1.727904           -0.573809   \n",
       "4             0.997204            -0.578736           -0.573809   \n",
       "\n",
       "   -0.9124191495230279  0.912419149523028  -0.057205253550936634  \\\n",
       "0            -0.912419           0.912419              -1.267778   \n",
       "1             1.095988          -1.095988              -1.050496   \n",
       "2             1.095988          -1.095988              -0.160673   \n",
       "3            -0.912419           0.912419               0.025569   \n",
       "4            -0.912419           0.912419               0.842964   \n",
       "\n",
       "   0.4842246042993514  1.0329077647974714  0.5973285944410451  \\\n",
       "0           -0.755372            0.341352            0.409185   \n",
       "1           -1.327494           -0.004426           -1.225848   \n",
       "2           -0.373958            0.687130           -1.225848   \n",
       "3            1.819175           -1.387538            0.899393   \n",
       "4            0.198164            1.032908           -1.225848   \n",
       "\n",
       "   0.8077365626180174  0.6460916681531842  -1.030670113400118  \\\n",
       "0            0.807737           -1.547768           -1.030670   \n",
       "1            0.807737           -1.547768           -1.030670   \n",
       "2            0.807737            0.646092            0.970243   \n",
       "3           -0.911583            0.646092           -1.030670   \n",
       "4            0.807737            0.646092            0.970243   \n",
       "\n",
       "   0.8636502870218121  1.0  \n",
       "0           -0.346200  0.0  \n",
       "1            1.578357  0.0  \n",
       "2           -0.593636  0.0  \n",
       "3           -1.651826  1.0  \n",
       "4            1.231070  0.0  "
      ]
     },
     "execution_count": 24,
     "metadata": {},
     "output_type": "execute_result"
    }
   ],
   "source": [
    "df_all.head()"
   ]
  },
  {
   "cell_type": "code",
   "execution_count": null,
   "metadata": {},
   "outputs": [],
   "source": [
    "arr_test = df_all[df_all.columns[:-1]].values"
   ]
  },
  {
   "cell_type": "code",
   "execution_count": null,
   "metadata": {},
   "outputs": [],
   "source": [
    "arr_test.shape"
   ]
  },
  {
   "cell_type": "code",
   "execution_count": null,
   "metadata": {},
   "outputs": [],
   "source": [
    "type(arr_test)"
   ]
  },
  {
   "cell_type": "code",
   "execution_count": null,
   "metadata": {},
   "outputs": [],
   "source": [
    "arr_test.shape"
   ]
  },
  {
   "cell_type": "code",
   "execution_count": null,
   "metadata": {},
   "outputs": [],
   "source": [
    "result = predictor.predict(arr_test[:2])"
   ]
  },
  {
   "cell_type": "code",
   "execution_count": null,
   "metadata": {},
   "outputs": [],
   "source": [
    "result"
   ]
  },
  {
   "cell_type": "code",
   "execution_count": null,
   "metadata": {},
   "outputs": [],
   "source": [
    "predictions = []\n",
    "for arr in np.array_split(arr_test,10):\n",
    "    result = predictor.predict(arr)\n",
    "    result = result.decode(\"utf-8\")\n",
    "    result = result.split(',')\n",
    "    print (arr.shape)\n",
    "    predictions += [float(r) for r in result]"
   ]
  },
  {
   "cell_type": "code",
   "execution_count": null,
   "metadata": {},
   "outputs": [],
   "source": [
    "final_results = []\n",
    "for i in range(0, len(predictions)):\n",
    "    if predictions[i] >0.5:\n",
    "        \n",
    "        final_results.append(1)\n",
    "    else:\n",
    "        \n",
    "        final_results.append(0)"
   ]
  },
  {
   "cell_type": "code",
   "execution_count": null,
   "metadata": {},
   "outputs": [],
   "source": [
    "final_results"
   ]
  },
  {
   "cell_type": "code",
   "execution_count": null,
   "metadata": {},
   "outputs": [],
   "source": [
    "len(final_results)"
   ]
  },
  {
   "cell_type": "code",
   "execution_count": null,
   "metadata": {},
   "outputs": [],
   "source": [
    "y_true = df_all.iloc[:,-1]"
   ]
  },
  {
   "cell_type": "code",
   "execution_count": null,
   "metadata": {},
   "outputs": [],
   "source": [
    "from sklearn.metrics import confusion_matrix\n",
    "cm = confusion_matrix(y_true, final_results)\n",
    "cm"
   ]
  },
  {
   "cell_type": "code",
   "execution_count": null,
   "metadata": {},
   "outputs": [],
   "source": []
  },
  {
   "cell_type": "code",
   "execution_count": null,
   "metadata": {},
   "outputs": [],
   "source": []
  },
  {
   "cell_type": "code",
   "execution_count": null,
   "metadata": {},
   "outputs": [],
   "source": []
  },
  {
   "cell_type": "code",
   "execution_count": null,
   "metadata": {},
   "outputs": [],
   "source": []
  }
 ],
 "metadata": {
  "kernelspec": {
   "display_name": "conda_python3",
   "language": "python",
   "name": "conda_python3"
  },
  "language_info": {
   "codemirror_mode": {
    "name": "ipython",
    "version": 3
   },
   "file_extension": ".py",
   "mimetype": "text/x-python",
   "name": "python",
   "nbconvert_exporter": "python",
   "pygments_lexer": "ipython3",
   "version": "3.6.5"
  }
 },
 "nbformat": 4,
 "nbformat_minor": 4
}
