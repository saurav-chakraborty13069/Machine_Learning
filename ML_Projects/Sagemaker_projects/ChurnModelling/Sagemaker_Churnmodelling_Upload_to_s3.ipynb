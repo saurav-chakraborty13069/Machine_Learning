{
 "cells": [
  {
   "cell_type": "code",
   "execution_count": 17,
   "metadata": {},
   "outputs": [],
   "source": [
    "import sklearn\n",
    "import pandas as pd\n",
    "import numpy as np\n",
    "import boto3\n",
    "import pprint\n",
    "import os\n",
    "import time"
   ]
  },
  {
   "cell_type": "code",
   "execution_count": 18,
   "metadata": {},
   "outputs": [],
   "source": [
    "bucket_name = 'saurav-ml-sagemaker'\n",
    "\n",
    "training_folder = r'ChurnModel/training/'\n",
    "validation_folder = r'ChurnModel/validation/'\n",
    "test_folder = r'ChurnModel/test/'\n"
   ]
  },
  {
   "cell_type": "code",
   "execution_count": 19,
   "metadata": {},
   "outputs": [],
   "source": [
    "s3_model_output_location = r's3://{0}/churnmodel/model'.format(bucket_name)\n",
    "s3_training_file_location = r's3://{0}/{1}'.format(bucket_name,training_folder)\n",
    "s3_validation_file_location = r's3://{0}/{1}'.format(bucket_name,validation_folder)\n",
    "s3_test_file_location = r's3://{0}/{1}'.format(bucket_name,test_folder)"
   ]
  },
  {
   "cell_type": "code",
   "execution_count": 20,
   "metadata": {},
   "outputs": [
    {
     "name": "stdout",
     "output_type": "stream",
     "text": [
      "s3://saurav-ml-sagemaker/churnmodel/model\n",
      "s3://saurav-ml-sagemaker/ChurnModel/training/\n",
      "s3://saurav-ml-sagemaker/ChurnModel/validation/\n",
      "s3://saurav-ml-sagemaker/ChurnModel/test/\n"
     ]
    }
   ],
   "source": [
    "print(s3_model_output_location)\n",
    "print(s3_training_file_location)\n",
    "print(s3_validation_file_location)\n",
    "print(s3_test_file_location)"
   ]
  },
  {
   "cell_type": "code",
   "execution_count": 21,
   "metadata": {},
   "outputs": [],
   "source": [
    "def write_to_s3(filename, bucket, key):\n",
    "    session = boto3.session.Session()\n",
    "    client = session.client('s3')\n",
    "    client.upload_file(filename, bucket, key)"
   ]
  },
  {
   "cell_type": "code",
   "execution_count": 22,
   "metadata": {},
   "outputs": [],
   "source": [
    "write_to_s3('train.csv', \n",
    "            bucket_name,\n",
    "            training_folder + 'train.csv')"
   ]
  },
  {
   "cell_type": "code",
   "execution_count": 23,
   "metadata": {},
   "outputs": [],
   "source": [
    "write_to_s3('test.csv', \n",
    "            bucket_name,\n",
    "            test_folder + 'test.csv')"
   ]
  },
  {
   "cell_type": "code",
   "execution_count": 24,
   "metadata": {},
   "outputs": [],
   "source": [
    "write_to_s3('validation.csv', \n",
    "            bucket_name,\n",
    "            validation_folder + 'validation.csv')"
   ]
  }
 ],
 "metadata": {
  "kernelspec": {
   "display_name": "conda_python3",
   "language": "python",
   "name": "conda_python3"
  },
  "language_info": {
   "codemirror_mode": {
    "name": "ipython",
    "version": 3
   },
   "file_extension": ".py",
   "mimetype": "text/x-python",
   "name": "python",
   "nbconvert_exporter": "python",
   "pygments_lexer": "ipython3",
   "version": "3.6.5"
  }
 },
 "nbformat": 4,
 "nbformat_minor": 4
}
