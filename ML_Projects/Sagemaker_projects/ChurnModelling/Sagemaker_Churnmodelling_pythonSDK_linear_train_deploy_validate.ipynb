{
 "cells": [
  {
   "cell_type": "code",
   "execution_count": 1,
   "metadata": {},
   "outputs": [],
   "source": [
    "import sklearn\n",
    "import pandas as pd\n",
    "import numpy as np\n",
    "import boto3\n",
    "import pprint\n",
    "import os\n",
    "import time\n",
    "\n",
    "\n",
    "import re\n",
    "\n",
    "import sagemaker\n",
    "from sagemaker import get_execution_role"
   ]
  },
  {
   "cell_type": "code",
   "execution_count": 2,
   "metadata": {},
   "outputs": [],
   "source": [
    "sess = sagemaker.Session()"
   ]
  },
  {
   "cell_type": "code",
   "execution_count": 3,
   "metadata": {},
   "outputs": [
    {
     "name": "stdout",
     "output_type": "stream",
     "text": [
      "arn:aws:iam::750253866451:role/sage_role\n"
     ]
    }
   ],
   "source": [
    "role = get_execution_role()\n",
    "print(role)"
   ]
  },
  {
   "cell_type": "code",
   "execution_count": 4,
   "metadata": {},
   "outputs": [],
   "source": [
    "bucket_name = 'saurav-ml-sagemaker'\n",
    "\n",
    "training_folder = r'ChurnModel/training/'\n",
    "test_folder = r'ChurnModel/test/'\n",
    "validation_folder = r'ChurnModel/validation/'"
   ]
  },
  {
   "cell_type": "code",
   "execution_count": 5,
   "metadata": {},
   "outputs": [],
   "source": [
    "s3_model_output_location = r's3://{}/ChurnModel/model'.format(bucket_name)\n",
    "s3_training_file_location = r's3://{0}/{1}'.format(bucket_name,training_folder)\n",
    "s3_test_file_location = r's3://{0}/{1}'.format(bucket_name,test_folder)\n",
    "s3_validation_file_location = r's3://{0}/{1}'.format(bucket_name, validation_folder)"
   ]
  },
  {
   "cell_type": "code",
   "execution_count": 6,
   "metadata": {},
   "outputs": [
    {
     "name": "stdout",
     "output_type": "stream",
     "text": [
      "s3://saurav-ml-sagemaker/ChurnModel/model\n",
      "s3://saurav-ml-sagemaker/ChurnModel/training/\n",
      "s3://saurav-ml-sagemaker/ChurnModel/validation/\n",
      "s3://saurav-ml-sagemaker/ChurnModel/test/\n"
     ]
    }
   ],
   "source": [
    "print(s3_model_output_location)\n",
    "print(s3_training_file_location)\n",
    "print(s3_validation_file_location)\n",
    "print(s3_test_file_location)\n"
   ]
  },
  {
   "cell_type": "code",
   "execution_count": 7,
   "metadata": {},
   "outputs": [],
   "source": [
    "from sagemaker.amazon.amazon_estimator import get_image_uri\n",
    "container = get_image_uri(boto3.Session().region_name, 'linear-learner', 'latest')"
   ]
  },
  {
   "cell_type": "code",
   "execution_count": 8,
   "metadata": {},
   "outputs": [
    {
     "name": "stdout",
     "output_type": "stream",
     "text": [
      "Job Name is Demo-linear2020-03-30-03-01-30\n"
     ]
    }
   ],
   "source": [
    "linear_job = \"Demo-linear\" + time.strftime(\"%Y-%m-%d-%H-%M-%S\", time.gmtime())\n",
    "print('Job Name is {}'.format(linear_job))"
   ]
  },
  {
   "cell_type": "code",
   "execution_count": 9,
   "metadata": {},
   "outputs": [],
   "source": [
    "linear_training_params = {\n",
    "    \"RoleArn\": role,\n",
    "    \"TrainingJobName\": linear_job,\n",
    "    \"AlgorithmSpecification\": {\n",
    "        \"TrainingImage\": container,\n",
    "        \"TrainingInputMode\": \"File\"\n",
    "    },\n",
    "    \"ResourceConfig\": {\n",
    "        \"InstanceCount\": 1,\n",
    "        \"InstanceType\": \"ml.c4.2xlarge\",\n",
    "        \"VolumeSizeInGB\": 10\n",
    "    },\n",
    "    \"InputDataConfig\": [\n",
    "        {\n",
    "            \"ChannelName\": \"train\",\n",
    "            \"DataSource\": {\n",
    "                \"S3DataSource\": {\n",
    "                    \"S3DataType\": \"S3Prefix\",\n",
    "                    \"S3Uri\": s3_training_file_location,\n",
    "                    \"S3DataDistributionType\": \"ShardedByS3Key\"\n",
    "                }\n",
    "            },\n",
    "            \"ContentType\": \"text/csv\",\n",
    "            \"CompressionType\": \"None\",\n",
    "            \"RecordWrapperType\": \"None\"\n",
    "        },\n",
    "        {\n",
    "            \"ChannelName\": \"validation\",\n",
    "            \"DataSource\": {\n",
    "                \"S3DataSource\": {\n",
    "                    \"S3DataType\": \"S3Prefix\",\n",
    "                    \"S3Uri\": s3_validation_file_location,\n",
    "                    \"S3DataDistributionType\": \"FullyReplicated\"\n",
    "                }\n",
    "            },\n",
    "            \"ContentType\": \"text/csv\",\n",
    "            \"CompressionType\": \"None\",\n",
    "            \"RecordWrapperType\": \"None\"\n",
    "        }\n",
    "\n",
    "    ],\n",
    "    \"OutputDataConfig\": {\n",
    "        \"S3OutputPath\": s3_model_output_location\n",
    "    },\n",
    "    \"HyperParameters\": {\n",
    "                            \"feature_dim\": \"13\",\n",
    "                            \"mini_batch_size\": \"100\",\n",
    "                            \"predictor_type\": \"binary_classifier\",\n",
    "                            \"epochs\": \"10\",\n",
    "                            \"num_models\": \"32\",\n",
    "                            \"loss\": \"absolute_loss\"\n",
    "        \n",
    "    },\n",
    "    \"StoppingCondition\": {\n",
    "        \"MaxRuntimeInSeconds\": 60 * 60\n",
    "    }\n",
    "}"
   ]
  },
  {
   "cell_type": "code",
   "execution_count": 10,
   "metadata": {},
   "outputs": [
    {
     "name": "stdout",
     "output_type": "stream",
     "text": [
      "InProgress\n"
     ]
    }
   ],
   "source": [
    "region = boto3.Session().region_name\n",
    "sm = boto3.client('sagemaker')\n",
    "\n",
    "sm.create_training_job(**linear_training_params)\n",
    "\n",
    "status = sm.describe_training_job(TrainingJobName=linear_job)['TrainingJobStatus']\n",
    "print(status)\n",
    "sm.get_waiter('training_job_completed_or_stopped').wait(TrainingJobName=linear_job)\n",
    "if status == 'Failed':\n",
    "    message = sm.describe_training_job(TrainingJobName=linear_job)['FailureReason']\n",
    "    print('Training failed with the following error: {}'.format(message))\n",
    "    raise Exception('Training job failed')"
   ]
  },
  {
   "cell_type": "code",
   "execution_count": null,
   "metadata": {},
   "outputs": [],
   "source": [
    "#HOST"
   ]
  },
  {
   "cell_type": "code",
   "execution_count": null,
   "metadata": {},
   "outputs": [],
   "source": [
    "#SETUP A MODEL"
   ]
  },
  {
   "cell_type": "code",
   "execution_count": 12,
   "metadata": {},
   "outputs": [
    {
     "name": "stdout",
     "output_type": "stream",
     "text": [
      "arn:aws:sagemaker:us-east-1:750253866451:model/demo-linear2020-03-30-03-01-30\n"
     ]
    }
   ],
   "source": [
    "linear_hosting_container = {\n",
    "    'Image': container,\n",
    "    'ModelDataUrl': sm.describe_training_job(TrainingJobName=linear_job)['ModelArtifacts']['S3ModelArtifacts']\n",
    "}\n",
    "\n",
    "create_model_response = sm.create_model(\n",
    "    ModelName=linear_job,\n",
    "    ExecutionRoleArn=role,\n",
    "    PrimaryContainer=linear_hosting_container)\n",
    "\n",
    "print(create_model_response['ModelArn'])"
   ]
  },
  {
   "cell_type": "code",
   "execution_count": 16,
   "metadata": {},
   "outputs": [
    {
     "data": {
      "text/plain": [
       "'s3://saurav-ml-sagemaker/ChurnModel/model/Demo-linear2020-03-30-03-01-30/output/model.tar.gz'"
      ]
     },
     "execution_count": 16,
     "metadata": {},
     "output_type": "execute_result"
    }
   ],
   "source": [
    "sm.describe_training_job(TrainingJobName=linear_job)['ModelArtifacts']['S3ModelArtifacts']"
   ]
  },
  {
   "cell_type": "code",
   "execution_count": null,
   "metadata": {},
   "outputs": [],
   "source": [
    "#CREATE AN ENDPOINT CONFIG"
   ]
  },
  {
   "cell_type": "code",
   "execution_count": 17,
   "metadata": {},
   "outputs": [
    {
     "name": "stdout",
     "output_type": "stream",
     "text": [
      "DEMO-linear-endpoint-config-2020-03-30-03-08-30\n",
      "Endpoint Config Arn: arn:aws:sagemaker:us-east-1:750253866451:endpoint-config/demo-linear-endpoint-config-2020-03-30-03-08-30\n"
     ]
    }
   ],
   "source": [
    "linear_endpoint_config = 'DEMO-linear-endpoint-config-' + time.strftime(\"%Y-%m-%d-%H-%M-%S\", time.gmtime())\n",
    "print(linear_endpoint_config)\n",
    "create_endpoint_config_response = sm.create_endpoint_config(\n",
    "    EndpointConfigName=linear_endpoint_config,\n",
    "    ProductionVariants=[{\n",
    "        'InstanceType': 'ml.m4.xlarge',\n",
    "        'InitialInstanceCount': 1,\n",
    "        'ModelName': linear_job,\n",
    "        'VariantName': 'AllTraffic'}])\n",
    "\n",
    "print(\"Endpoint Config Arn: \" + create_endpoint_config_response['EndpointConfigArn'])"
   ]
  },
  {
   "cell_type": "code",
   "execution_count": null,
   "metadata": {},
   "outputs": [],
   "source": [
    "#CREATE AN ENDPOINT"
   ]
  },
  {
   "cell_type": "code",
   "execution_count": 18,
   "metadata": {},
   "outputs": [
    {
     "name": "stdout",
     "output_type": "stream",
     "text": [
      "DEMO-linear-endpoint-202003300309\n",
      "arn:aws:sagemaker:us-east-1:750253866451:endpoint/demo-linear-endpoint-202003300309\n",
      "Status: Creating\n",
      "Arn: arn:aws:sagemaker:us-east-1:750253866451:endpoint/demo-linear-endpoint-202003300309\n",
      "Status: InService\n",
      "CPU times: user 190 ms, sys: 33.2 ms, total: 223 ms\n",
      "Wall time: 7min 31s\n"
     ]
    }
   ],
   "source": [
    "%%time\n",
    "\n",
    "linear_endpoint = 'DEMO-linear-endpoint-' + time.strftime(\"%Y%m%d%H%M\", time.gmtime())\n",
    "print(linear_endpoint)\n",
    "create_endpoint_response = sm.create_endpoint(\n",
    "    EndpointName=linear_endpoint,\n",
    "    EndpointConfigName=linear_endpoint_config)\n",
    "print(create_endpoint_response['EndpointArn'])\n",
    "\n",
    "resp = sm.describe_endpoint(EndpointName=linear_endpoint)\n",
    "status = resp['EndpointStatus']\n",
    "print(\"Status: \" + status)\n",
    "\n",
    "sm.get_waiter('endpoint_in_service').wait(EndpointName=linear_endpoint)\n",
    "\n",
    "resp = sm.describe_endpoint(EndpointName=linear_endpoint)\n",
    "status = resp['EndpointStatus']\n",
    "print(\"Arn: \" + resp['EndpointArn'])\n",
    "print(\"Status: \" + status)\n",
    "\n",
    "if status != 'InService':\n",
    "    raise Exception('Endpoint creation did not succeed')"
   ]
  },
  {
   "cell_type": "code",
   "execution_count": null,
   "metadata": {},
   "outputs": [],
   "source": [
    "#PREDICT"
   ]
  },
  {
   "cell_type": "code",
   "execution_count": 19,
   "metadata": {},
   "outputs": [],
   "source": [
    "prefix = \"ChurnModel/test/\"\n",
    "\n",
    "data_key = prefix + 'test.csv'\n",
    "data_location = 's3://{}/{}'.format(bucket_name, data_key)\n",
    "test = pd.read_csv(data_location)"
   ]
  },
  {
   "cell_type": "code",
   "execution_count": 20,
   "metadata": {},
   "outputs": [
    {
     "data": {
      "text/html": [
       "<div>\n",
       "<style scoped>\n",
       "    .dataframe tbody tr th:only-of-type {\n",
       "        vertical-align: middle;\n",
       "    }\n",
       "\n",
       "    .dataframe tbody tr th {\n",
       "        vertical-align: top;\n",
       "    }\n",
       "\n",
       "    .dataframe thead th {\n",
       "        text-align: right;\n",
       "    }\n",
       "</style>\n",
       "<table border=\"1\" class=\"dataframe\">\n",
       "  <thead>\n",
       "    <tr style=\"text-align: right;\">\n",
       "      <th></th>\n",
       "      <th>0</th>\n",
       "      <th>-0.5787359118285802</th>\n",
       "      <th>1.7427397119690895</th>\n",
       "      <th>1.0959875190286517</th>\n",
       "      <th>-1.0959875190286514</th>\n",
       "      <th>-0.4400359548576646</th>\n",
       "      <th>0.19816383219544578</th>\n",
       "      <th>-1.387537586562431</th>\n",
       "      <th>0.11735002143511637</th>\n",
       "      <th>-0.911583494040172</th>\n",
       "      <th>-1.5477679860172207</th>\n",
       "      <th>0.970242550937133</th>\n",
       "      <th>0.21653375188734358</th>\n",
       "      <th>-1.0028039309990795</th>\n",
       "    </tr>\n",
       "  </thead>\n",
       "  <tbody>\n",
       "    <tr>\n",
       "      <th>0</th>\n",
       "      <td>0</td>\n",
       "      <td>-0.578736</td>\n",
       "      <td>1.742740</td>\n",
       "      <td>1.095988</td>\n",
       "      <td>-1.095988</td>\n",
       "      <td>2.063884</td>\n",
       "      <td>0.388871</td>\n",
       "      <td>-1.041760</td>\n",
       "      <td>0.785728</td>\n",
       "      <td>-0.911583</td>\n",
       "      <td>0.646092</td>\n",
       "      <td>0.970243</td>\n",
       "      <td>-0.365276</td>\n",
       "      <td>-1.002804</td>\n",
       "    </tr>\n",
       "    <tr>\n",
       "      <th>1</th>\n",
       "      <td>0</td>\n",
       "      <td>-0.578736</td>\n",
       "      <td>1.742740</td>\n",
       "      <td>-0.912419</td>\n",
       "      <td>0.912419</td>\n",
       "      <td>-1.588528</td>\n",
       "      <td>-1.422847</td>\n",
       "      <td>-0.695982</td>\n",
       "      <td>-1.225848</td>\n",
       "      <td>0.807737</td>\n",
       "      <td>0.646092</td>\n",
       "      <td>-1.030670</td>\n",
       "      <td>-0.412123</td>\n",
       "      <td>-1.002804</td>\n",
       "    </tr>\n",
       "    <tr>\n",
       "      <th>2</th>\n",
       "      <td>0</td>\n",
       "      <td>-0.578736</td>\n",
       "      <td>-0.573809</td>\n",
       "      <td>1.095988</td>\n",
       "      <td>-1.095988</td>\n",
       "      <td>-1.050496</td>\n",
       "      <td>-1.327494</td>\n",
       "      <td>-0.004426</td>\n",
       "      <td>-1.225848</td>\n",
       "      <td>0.807737</td>\n",
       "      <td>-1.547768</td>\n",
       "      <td>-1.030670</td>\n",
       "      <td>1.578357</td>\n",
       "      <td>0.997204</td>\n",
       "    </tr>\n",
       "    <tr>\n",
       "      <th>3</th>\n",
       "      <td>1</td>\n",
       "      <td>-0.578736</td>\n",
       "      <td>1.742740</td>\n",
       "      <td>1.095988</td>\n",
       "      <td>-1.095988</td>\n",
       "      <td>-1.454020</td>\n",
       "      <td>-0.087897</td>\n",
       "      <td>-0.350204</td>\n",
       "      <td>-1.225848</td>\n",
       "      <td>-0.911583</td>\n",
       "      <td>0.646092</td>\n",
       "      <td>-1.030670</td>\n",
       "      <td>0.327318</td>\n",
       "      <td>-1.002804</td>\n",
       "    </tr>\n",
       "    <tr>\n",
       "      <th>4</th>\n",
       "      <td>0</td>\n",
       "      <td>-0.578736</td>\n",
       "      <td>1.742740</td>\n",
       "      <td>1.095988</td>\n",
       "      <td>-1.095988</td>\n",
       "      <td>0.739496</td>\n",
       "      <td>-0.946079</td>\n",
       "      <td>1.378686</td>\n",
       "      <td>-1.225848</td>\n",
       "      <td>0.807737</td>\n",
       "      <td>0.646092</td>\n",
       "      <td>0.970243</td>\n",
       "      <td>0.729344</td>\n",
       "      <td>-1.002804</td>\n",
       "    </tr>\n",
       "  </tbody>\n",
       "</table>\n",
       "</div>"
      ],
      "text/plain": [
       "   0  -0.5787359118285802  1.7427397119690895  1.0959875190286517  \\\n",
       "0  0            -0.578736            1.742740            1.095988   \n",
       "1  0            -0.578736            1.742740           -0.912419   \n",
       "2  0            -0.578736           -0.573809            1.095988   \n",
       "3  1            -0.578736            1.742740            1.095988   \n",
       "4  0            -0.578736            1.742740            1.095988   \n",
       "\n",
       "   -1.0959875190286514  -0.4400359548576646  0.19816383219544578  \\\n",
       "0            -1.095988             2.063884             0.388871   \n",
       "1             0.912419            -1.588528            -1.422847   \n",
       "2            -1.095988            -1.050496            -1.327494   \n",
       "3            -1.095988            -1.454020            -0.087897   \n",
       "4            -1.095988             0.739496            -0.946079   \n",
       "\n",
       "   -1.387537586562431  0.11735002143511637  -0.911583494040172  \\\n",
       "0           -1.041760             0.785728           -0.911583   \n",
       "1           -0.695982            -1.225848            0.807737   \n",
       "2           -0.004426            -1.225848            0.807737   \n",
       "3           -0.350204            -1.225848           -0.911583   \n",
       "4            1.378686            -1.225848            0.807737   \n",
       "\n",
       "   -1.5477679860172207  0.970242550937133  0.21653375188734358  \\\n",
       "0             0.646092           0.970243            -0.365276   \n",
       "1             0.646092          -1.030670            -0.412123   \n",
       "2            -1.547768          -1.030670             1.578357   \n",
       "3             0.646092          -1.030670             0.327318   \n",
       "4             0.646092           0.970243             0.729344   \n",
       "\n",
       "   -1.0028039309990795  \n",
       "0            -1.002804  \n",
       "1            -1.002804  \n",
       "2             0.997204  \n",
       "3            -1.002804  \n",
       "4            -1.002804  "
      ]
     },
     "execution_count": 20,
     "metadata": {},
     "output_type": "execute_result"
    }
   ],
   "source": [
    "test.head()"
   ]
  },
  {
   "cell_type": "code",
   "execution_count": 21,
   "metadata": {},
   "outputs": [],
   "source": [
    "test_X = test.iloc[:,1:]"
   ]
  },
  {
   "cell_type": "code",
   "execution_count": 23,
   "metadata": {},
   "outputs": [
    {
     "data": {
      "text/html": [
       "<div>\n",
       "<style scoped>\n",
       "    .dataframe tbody tr th:only-of-type {\n",
       "        vertical-align: middle;\n",
       "    }\n",
       "\n",
       "    .dataframe tbody tr th {\n",
       "        vertical-align: top;\n",
       "    }\n",
       "\n",
       "    .dataframe thead th {\n",
       "        text-align: right;\n",
       "    }\n",
       "</style>\n",
       "<table border=\"1\" class=\"dataframe\">\n",
       "  <thead>\n",
       "    <tr style=\"text-align: right;\">\n",
       "      <th></th>\n",
       "      <th>-0.5787359118285802</th>\n",
       "      <th>1.7427397119690895</th>\n",
       "      <th>1.0959875190286517</th>\n",
       "      <th>-1.0959875190286514</th>\n",
       "      <th>-0.4400359548576646</th>\n",
       "      <th>0.19816383219544578</th>\n",
       "      <th>-1.387537586562431</th>\n",
       "      <th>0.11735002143511637</th>\n",
       "      <th>-0.911583494040172</th>\n",
       "      <th>-1.5477679860172207</th>\n",
       "      <th>0.970242550937133</th>\n",
       "      <th>0.21653375188734358</th>\n",
       "      <th>-1.0028039309990795</th>\n",
       "    </tr>\n",
       "  </thead>\n",
       "  <tbody>\n",
       "    <tr>\n",
       "      <th>0</th>\n",
       "      <td>-0.578736</td>\n",
       "      <td>1.742740</td>\n",
       "      <td>1.095988</td>\n",
       "      <td>-1.095988</td>\n",
       "      <td>2.063884</td>\n",
       "      <td>0.388871</td>\n",
       "      <td>-1.041760</td>\n",
       "      <td>0.785728</td>\n",
       "      <td>-0.911583</td>\n",
       "      <td>0.646092</td>\n",
       "      <td>0.970243</td>\n",
       "      <td>-0.365276</td>\n",
       "      <td>-1.002804</td>\n",
       "    </tr>\n",
       "    <tr>\n",
       "      <th>1</th>\n",
       "      <td>-0.578736</td>\n",
       "      <td>1.742740</td>\n",
       "      <td>-0.912419</td>\n",
       "      <td>0.912419</td>\n",
       "      <td>-1.588528</td>\n",
       "      <td>-1.422847</td>\n",
       "      <td>-0.695982</td>\n",
       "      <td>-1.225848</td>\n",
       "      <td>0.807737</td>\n",
       "      <td>0.646092</td>\n",
       "      <td>-1.030670</td>\n",
       "      <td>-0.412123</td>\n",
       "      <td>-1.002804</td>\n",
       "    </tr>\n",
       "    <tr>\n",
       "      <th>2</th>\n",
       "      <td>-0.578736</td>\n",
       "      <td>-0.573809</td>\n",
       "      <td>1.095988</td>\n",
       "      <td>-1.095988</td>\n",
       "      <td>-1.050496</td>\n",
       "      <td>-1.327494</td>\n",
       "      <td>-0.004426</td>\n",
       "      <td>-1.225848</td>\n",
       "      <td>0.807737</td>\n",
       "      <td>-1.547768</td>\n",
       "      <td>-1.030670</td>\n",
       "      <td>1.578357</td>\n",
       "      <td>0.997204</td>\n",
       "    </tr>\n",
       "    <tr>\n",
       "      <th>3</th>\n",
       "      <td>-0.578736</td>\n",
       "      <td>1.742740</td>\n",
       "      <td>1.095988</td>\n",
       "      <td>-1.095988</td>\n",
       "      <td>-1.454020</td>\n",
       "      <td>-0.087897</td>\n",
       "      <td>-0.350204</td>\n",
       "      <td>-1.225848</td>\n",
       "      <td>-0.911583</td>\n",
       "      <td>0.646092</td>\n",
       "      <td>-1.030670</td>\n",
       "      <td>0.327318</td>\n",
       "      <td>-1.002804</td>\n",
       "    </tr>\n",
       "    <tr>\n",
       "      <th>4</th>\n",
       "      <td>-0.578736</td>\n",
       "      <td>1.742740</td>\n",
       "      <td>1.095988</td>\n",
       "      <td>-1.095988</td>\n",
       "      <td>0.739496</td>\n",
       "      <td>-0.946079</td>\n",
       "      <td>1.378686</td>\n",
       "      <td>-1.225848</td>\n",
       "      <td>0.807737</td>\n",
       "      <td>0.646092</td>\n",
       "      <td>0.970243</td>\n",
       "      <td>0.729344</td>\n",
       "      <td>-1.002804</td>\n",
       "    </tr>\n",
       "  </tbody>\n",
       "</table>\n",
       "</div>"
      ],
      "text/plain": [
       "   -0.5787359118285802  1.7427397119690895  1.0959875190286517  \\\n",
       "0            -0.578736            1.742740            1.095988   \n",
       "1            -0.578736            1.742740           -0.912419   \n",
       "2            -0.578736           -0.573809            1.095988   \n",
       "3            -0.578736            1.742740            1.095988   \n",
       "4            -0.578736            1.742740            1.095988   \n",
       "\n",
       "   -1.0959875190286514  -0.4400359548576646  0.19816383219544578  \\\n",
       "0            -1.095988             2.063884             0.388871   \n",
       "1             0.912419            -1.588528            -1.422847   \n",
       "2            -1.095988            -1.050496            -1.327494   \n",
       "3            -1.095988            -1.454020            -0.087897   \n",
       "4            -1.095988             0.739496            -0.946079   \n",
       "\n",
       "   -1.387537586562431  0.11735002143511637  -0.911583494040172  \\\n",
       "0           -1.041760             0.785728           -0.911583   \n",
       "1           -0.695982            -1.225848            0.807737   \n",
       "2           -0.004426            -1.225848            0.807737   \n",
       "3           -0.350204            -1.225848           -0.911583   \n",
       "4            1.378686            -1.225848            0.807737   \n",
       "\n",
       "   -1.5477679860172207  0.970242550937133  0.21653375188734358  \\\n",
       "0             0.646092           0.970243            -0.365276   \n",
       "1             0.646092          -1.030670            -0.412123   \n",
       "2            -1.547768          -1.030670             1.578357   \n",
       "3             0.646092          -1.030670             0.327318   \n",
       "4             0.646092           0.970243             0.729344   \n",
       "\n",
       "   -1.0028039309990795  \n",
       "0            -1.002804  \n",
       "1            -1.002804  \n",
       "2             0.997204  \n",
       "3            -1.002804  \n",
       "4            -1.002804  "
      ]
     },
     "execution_count": 23,
     "metadata": {},
     "output_type": "execute_result"
    }
   ],
   "source": [
    "test_X.head()"
   ]
  },
  {
   "cell_type": "code",
   "execution_count": 24,
   "metadata": {},
   "outputs": [],
   "source": [
    "test_y = test.iloc[:,0]"
   ]
  },
  {
   "cell_type": "code",
   "execution_count": 25,
   "metadata": {},
   "outputs": [
    {
     "data": {
      "text/plain": [
       "0    0\n",
       "1    0\n",
       "2    0\n",
       "3    1\n",
       "4    0\n",
       "Name: 0, dtype: int64"
      ]
     },
     "execution_count": 25,
     "metadata": {},
     "output_type": "execute_result"
    }
   ],
   "source": [
    "test_y.head()"
   ]
  },
  {
   "cell_type": "code",
   "execution_count": 38,
   "metadata": {},
   "outputs": [],
   "source": [
    "train = pd.read_csv('train.csv')"
   ]
  },
  {
   "cell_type": "code",
   "execution_count": 39,
   "metadata": {},
   "outputs": [],
   "source": [
    "train_X = train.iloc[:,1:]\n",
    "train_y = train.iloc[:,0]"
   ]
  },
  {
   "cell_type": "code",
   "execution_count": 32,
   "metadata": {},
   "outputs": [],
   "source": [
    "import io\n",
    "import json\n",
    "def np2csv(arr):\n",
    "    csv = io.BytesIO()\n",
    "    np.savetxt(csv, arr, delimiter=',', fmt='%g')\n",
    "    return csv.getvalue().decode().rstrip()"
   ]
  },
  {
   "cell_type": "code",
   "execution_count": 33,
   "metadata": {},
   "outputs": [],
   "source": [
    "runtime= boto3.client('runtime.sagemaker')\n",
    "\n",
    "payload = np2csv(test_X)\n",
    "response = runtime.invoke_endpoint(EndpointName=linear_endpoint,\n",
    "                                   ContentType='text/csv',\n",
    "                                   Body=payload)\n",
    "result = json.loads(response['Body'].read().decode())\n",
    "test_pred = np.array([r['score'] for r in result['predictions']])"
   ]
  },
  {
   "cell_type": "code",
   "execution_count": 36,
   "metadata": {},
   "outputs": [
    {
     "data": {
      "text/plain": [
       "array([ 0.08512215, -0.04367315, -0.01518775, ..., -0.02131663,\n",
       "       -0.01934228, -0.00701834])"
      ]
     },
     "execution_count": 36,
     "metadata": {},
     "output_type": "execute_result"
    }
   ],
   "source": [
    "test_pred"
   ]
  },
  {
   "cell_type": "code",
   "execution_count": 40,
   "metadata": {},
   "outputs": [
    {
     "name": "stdout",
     "output_type": "stream",
     "text": [
      "Test MAE Baseline : 0.207\n",
      "Test MAE Linear: 0.236\n"
     ]
    }
   ],
   "source": [
    "test_mae_linear = np.mean(np.abs(test_y - test_pred))\n",
    "test_mae_baseline = np.mean(np.abs(test_y - np.median(train_y))) ## training median as baseline predictor\n",
    "\n",
    "print(\"Test MAE Baseline :\", round(test_mae_baseline, 3))\n",
    "print(\"Test MAE Linear:\", round(test_mae_linear,3))"
   ]
  },
  {
   "cell_type": "code",
   "execution_count": 41,
   "metadata": {},
   "outputs": [
    {
     "name": "stdout",
     "output_type": "stream",
     "text": [
      "Prediction Accuracy: 79.3 %\n",
      "Baseline Accuracy: 79.3 %\n"
     ]
    }
   ],
   "source": [
    "test_pred_class = (test_pred > 0.5)+0;\n",
    "test_pred_baseline = np.repeat(np.median(train_y), len(test_y))\n",
    "\n",
    "prediction_accuracy = np.mean((test_y == test_pred_class))*100\n",
    "baseline_accuracy = np.mean((test_y == test_pred_baseline))*100\n",
    "\n",
    "print(\"Prediction Accuracy:\", round(prediction_accuracy,1), \"%\")\n",
    "print(\"Baseline Accuracy:\", round(baseline_accuracy,1), \"%\")"
   ]
  },
  {
   "cell_type": "code",
   "execution_count": 42,
   "metadata": {},
   "outputs": [
    {
     "data": {
      "text/plain": [
       "array([0, 0, 0, ..., 0, 0, 0])"
      ]
     },
     "execution_count": 42,
     "metadata": {},
     "output_type": "execute_result"
    }
   ],
   "source": [
    "test_pred_class"
   ]
  },
  {
   "cell_type": "code",
   "execution_count": null,
   "metadata": {},
   "outputs": [],
   "source": []
  },
  {
   "cell_type": "code",
   "execution_count": null,
   "metadata": {},
   "outputs": [],
   "source": []
  },
  {
   "cell_type": "code",
   "execution_count": null,
   "metadata": {},
   "outputs": [],
   "source": []
  }
 ],
 "metadata": {
  "kernelspec": {
   "display_name": "Python 3",
   "language": "python",
   "name": "python3"
  },
  "language_info": {
   "codemirror_mode": {
    "name": "ipython",
    "version": 3
   },
   "file_extension": ".py",
   "mimetype": "text/x-python",
   "name": "python",
   "nbconvert_exporter": "python",
   "pygments_lexer": "ipython3",
   "version": "3.7.3"
  }
 },
 "nbformat": 4,
 "nbformat_minor": 4
}
