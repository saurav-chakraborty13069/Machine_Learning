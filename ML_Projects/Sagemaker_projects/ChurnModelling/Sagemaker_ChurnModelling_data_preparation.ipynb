{
 "cells": [
  {
   "cell_type": "code",
   "execution_count": 95,
   "metadata": {},
   "outputs": [],
   "source": [
    "import sklearn\n",
    "import pandas as pd\n",
    "import numpy as np\n",
    "import boto3\n",
    "import pprint\n",
    "import os\n",
    "import time\n",
    "\n",
    "from numpy.random import RandomState\n",
    "from sklearn.preprocessing import LabelEncoder,OneHotEncoder\n",
    "\n",
    "from sklearn.model_selection import train_test_split\n",
    "from sklearn.preprocessing import StandardScaler\n",
    "from sklearn.preprocessing import OneHotEncoder\n",
    "from sklearn.compose import ColumnTransformer\n",
    "from sklearn.metrics import confusion_matrix\n",
    "from sklearn.model_selection import cross_validate, cross_val_score\n",
    "from sklearn.model_selection import GridSearchCV\n",
    "from sklearn.preprocessing import StandardScaler"
   ]
  },
  {
   "cell_type": "code",
   "execution_count": 96,
   "metadata": {},
   "outputs": [],
   "source": [
    "bucket = \"saurav-ml-sagemaker\"\n",
    "prefix = \"ChurnModel/\""
   ]
  },
  {
   "cell_type": "code",
   "execution_count": 97,
   "metadata": {},
   "outputs": [],
   "source": [
    "data_key = prefix + 'Churn_Modelling.csv'\n",
    "data_location = 's3://{}/{}'.format(bucket, data_key)\n",
    "\n",
    "data_df = pd.read_csv(data_location)"
   ]
  },
  {
   "cell_type": "code",
   "execution_count": 98,
   "metadata": {},
   "outputs": [
    {
     "data": {
      "text/html": [
       "<div>\n",
       "<style scoped>\n",
       "    .dataframe tbody tr th:only-of-type {\n",
       "        vertical-align: middle;\n",
       "    }\n",
       "\n",
       "    .dataframe tbody tr th {\n",
       "        vertical-align: top;\n",
       "    }\n",
       "\n",
       "    .dataframe thead th {\n",
       "        text-align: right;\n",
       "    }\n",
       "</style>\n",
       "<table border=\"1\" class=\"dataframe\">\n",
       "  <thead>\n",
       "    <tr style=\"text-align: right;\">\n",
       "      <th></th>\n",
       "      <th>RowNumber</th>\n",
       "      <th>CustomerId</th>\n",
       "      <th>Surname</th>\n",
       "      <th>CreditScore</th>\n",
       "      <th>Geography</th>\n",
       "      <th>Gender</th>\n",
       "      <th>Age</th>\n",
       "      <th>Tenure</th>\n",
       "      <th>Balance</th>\n",
       "      <th>NumOfProducts</th>\n",
       "      <th>HasCrCard</th>\n",
       "      <th>IsActiveMember</th>\n",
       "      <th>EstimatedSalary</th>\n",
       "      <th>Exited</th>\n",
       "    </tr>\n",
       "  </thead>\n",
       "  <tbody>\n",
       "    <tr>\n",
       "      <th>0</th>\n",
       "      <td>1</td>\n",
       "      <td>15634602</td>\n",
       "      <td>Hargrave</td>\n",
       "      <td>619</td>\n",
       "      <td>France</td>\n",
       "      <td>Female</td>\n",
       "      <td>42</td>\n",
       "      <td>2</td>\n",
       "      <td>0.00</td>\n",
       "      <td>1</td>\n",
       "      <td>1</td>\n",
       "      <td>1</td>\n",
       "      <td>101348.88</td>\n",
       "      <td>1</td>\n",
       "    </tr>\n",
       "    <tr>\n",
       "      <th>1</th>\n",
       "      <td>2</td>\n",
       "      <td>15647311</td>\n",
       "      <td>Hill</td>\n",
       "      <td>608</td>\n",
       "      <td>Spain</td>\n",
       "      <td>Female</td>\n",
       "      <td>41</td>\n",
       "      <td>1</td>\n",
       "      <td>83807.86</td>\n",
       "      <td>1</td>\n",
       "      <td>0</td>\n",
       "      <td>1</td>\n",
       "      <td>112542.58</td>\n",
       "      <td>0</td>\n",
       "    </tr>\n",
       "    <tr>\n",
       "      <th>2</th>\n",
       "      <td>3</td>\n",
       "      <td>15619304</td>\n",
       "      <td>Onio</td>\n",
       "      <td>502</td>\n",
       "      <td>France</td>\n",
       "      <td>Female</td>\n",
       "      <td>42</td>\n",
       "      <td>8</td>\n",
       "      <td>159660.80</td>\n",
       "      <td>3</td>\n",
       "      <td>1</td>\n",
       "      <td>0</td>\n",
       "      <td>113931.57</td>\n",
       "      <td>1</td>\n",
       "    </tr>\n",
       "    <tr>\n",
       "      <th>3</th>\n",
       "      <td>4</td>\n",
       "      <td>15701354</td>\n",
       "      <td>Boni</td>\n",
       "      <td>699</td>\n",
       "      <td>France</td>\n",
       "      <td>Female</td>\n",
       "      <td>39</td>\n",
       "      <td>1</td>\n",
       "      <td>0.00</td>\n",
       "      <td>2</td>\n",
       "      <td>0</td>\n",
       "      <td>0</td>\n",
       "      <td>93826.63</td>\n",
       "      <td>0</td>\n",
       "    </tr>\n",
       "    <tr>\n",
       "      <th>4</th>\n",
       "      <td>5</td>\n",
       "      <td>15737888</td>\n",
       "      <td>Mitchell</td>\n",
       "      <td>850</td>\n",
       "      <td>Spain</td>\n",
       "      <td>Female</td>\n",
       "      <td>43</td>\n",
       "      <td>2</td>\n",
       "      <td>125510.82</td>\n",
       "      <td>1</td>\n",
       "      <td>1</td>\n",
       "      <td>1</td>\n",
       "      <td>79084.10</td>\n",
       "      <td>0</td>\n",
       "    </tr>\n",
       "  </tbody>\n",
       "</table>\n",
       "</div>"
      ],
      "text/plain": [
       "   RowNumber  CustomerId   Surname  CreditScore Geography  Gender  Age  \\\n",
       "0          1    15634602  Hargrave          619    France  Female   42   \n",
       "1          2    15647311      Hill          608     Spain  Female   41   \n",
       "2          3    15619304      Onio          502    France  Female   42   \n",
       "3          4    15701354      Boni          699    France  Female   39   \n",
       "4          5    15737888  Mitchell          850     Spain  Female   43   \n",
       "\n",
       "   Tenure    Balance  NumOfProducts  HasCrCard  IsActiveMember  \\\n",
       "0       2       0.00              1          1               1   \n",
       "1       1   83807.86              1          0               1   \n",
       "2       8  159660.80              3          1               0   \n",
       "3       1       0.00              2          0               0   \n",
       "4       2  125510.82              1          1               1   \n",
       "\n",
       "   EstimatedSalary  Exited  \n",
       "0        101348.88       1  \n",
       "1        112542.58       0  \n",
       "2        113931.57       1  \n",
       "3         93826.63       0  \n",
       "4         79084.10       0  "
      ]
     },
     "execution_count": 98,
     "metadata": {},
     "output_type": "execute_result"
    }
   ],
   "source": [
    "data_df.head()"
   ]
  },
  {
   "cell_type": "code",
   "execution_count": 99,
   "metadata": {},
   "outputs": [
    {
     "data": {
      "text/plain": [
       "Index(['RowNumber', 'CustomerId', 'Surname', 'CreditScore', 'Geography',\n",
       "       'Gender', 'Age', 'Tenure', 'Balance', 'NumOfProducts', 'HasCrCard',\n",
       "       'IsActiveMember', 'EstimatedSalary', 'Exited'],\n",
       "      dtype='object')"
      ]
     },
     "execution_count": 99,
     "metadata": {},
     "output_type": "execute_result"
    }
   ],
   "source": [
    "data_df.columns"
   ]
  },
  {
   "cell_type": "code",
   "execution_count": 100,
   "metadata": {},
   "outputs": [],
   "source": [
    "churn_data = data_df[['CreditScore', 'Geography',\n",
    "       'Gender', 'Age', 'Tenure', 'Balance', 'NumOfProducts', 'HasCrCard',\n",
    "       'IsActiveMember', 'EstimatedSalary', 'Exited']]"
   ]
  },
  {
   "cell_type": "code",
   "execution_count": 101,
   "metadata": {},
   "outputs": [
    {
     "data": {
      "text/html": [
       "<div>\n",
       "<style scoped>\n",
       "    .dataframe tbody tr th:only-of-type {\n",
       "        vertical-align: middle;\n",
       "    }\n",
       "\n",
       "    .dataframe tbody tr th {\n",
       "        vertical-align: top;\n",
       "    }\n",
       "\n",
       "    .dataframe thead th {\n",
       "        text-align: right;\n",
       "    }\n",
       "</style>\n",
       "<table border=\"1\" class=\"dataframe\">\n",
       "  <thead>\n",
       "    <tr style=\"text-align: right;\">\n",
       "      <th></th>\n",
       "      <th>CreditScore</th>\n",
       "      <th>Geography</th>\n",
       "      <th>Gender</th>\n",
       "      <th>Age</th>\n",
       "      <th>Tenure</th>\n",
       "      <th>Balance</th>\n",
       "      <th>NumOfProducts</th>\n",
       "      <th>HasCrCard</th>\n",
       "      <th>IsActiveMember</th>\n",
       "      <th>EstimatedSalary</th>\n",
       "      <th>Exited</th>\n",
       "    </tr>\n",
       "  </thead>\n",
       "  <tbody>\n",
       "    <tr>\n",
       "      <th>0</th>\n",
       "      <td>619</td>\n",
       "      <td>France</td>\n",
       "      <td>Female</td>\n",
       "      <td>42</td>\n",
       "      <td>2</td>\n",
       "      <td>0.00</td>\n",
       "      <td>1</td>\n",
       "      <td>1</td>\n",
       "      <td>1</td>\n",
       "      <td>101348.88</td>\n",
       "      <td>1</td>\n",
       "    </tr>\n",
       "    <tr>\n",
       "      <th>1</th>\n",
       "      <td>608</td>\n",
       "      <td>Spain</td>\n",
       "      <td>Female</td>\n",
       "      <td>41</td>\n",
       "      <td>1</td>\n",
       "      <td>83807.86</td>\n",
       "      <td>1</td>\n",
       "      <td>0</td>\n",
       "      <td>1</td>\n",
       "      <td>112542.58</td>\n",
       "      <td>0</td>\n",
       "    </tr>\n",
       "    <tr>\n",
       "      <th>2</th>\n",
       "      <td>502</td>\n",
       "      <td>France</td>\n",
       "      <td>Female</td>\n",
       "      <td>42</td>\n",
       "      <td>8</td>\n",
       "      <td>159660.80</td>\n",
       "      <td>3</td>\n",
       "      <td>1</td>\n",
       "      <td>0</td>\n",
       "      <td>113931.57</td>\n",
       "      <td>1</td>\n",
       "    </tr>\n",
       "    <tr>\n",
       "      <th>3</th>\n",
       "      <td>699</td>\n",
       "      <td>France</td>\n",
       "      <td>Female</td>\n",
       "      <td>39</td>\n",
       "      <td>1</td>\n",
       "      <td>0.00</td>\n",
       "      <td>2</td>\n",
       "      <td>0</td>\n",
       "      <td>0</td>\n",
       "      <td>93826.63</td>\n",
       "      <td>0</td>\n",
       "    </tr>\n",
       "    <tr>\n",
       "      <th>4</th>\n",
       "      <td>850</td>\n",
       "      <td>Spain</td>\n",
       "      <td>Female</td>\n",
       "      <td>43</td>\n",
       "      <td>2</td>\n",
       "      <td>125510.82</td>\n",
       "      <td>1</td>\n",
       "      <td>1</td>\n",
       "      <td>1</td>\n",
       "      <td>79084.10</td>\n",
       "      <td>0</td>\n",
       "    </tr>\n",
       "  </tbody>\n",
       "</table>\n",
       "</div>"
      ],
      "text/plain": [
       "   CreditScore Geography  Gender  Age  Tenure    Balance  NumOfProducts  \\\n",
       "0          619    France  Female   42       2       0.00              1   \n",
       "1          608     Spain  Female   41       1   83807.86              1   \n",
       "2          502    France  Female   42       8  159660.80              3   \n",
       "3          699    France  Female   39       1       0.00              2   \n",
       "4          850     Spain  Female   43       2  125510.82              1   \n",
       "\n",
       "   HasCrCard  IsActiveMember  EstimatedSalary  Exited  \n",
       "0          1               1        101348.88       1  \n",
       "1          0               1        112542.58       0  \n",
       "2          1               0        113931.57       1  \n",
       "3          0               0         93826.63       0  \n",
       "4          1               1         79084.10       0  "
      ]
     },
     "execution_count": 101,
     "metadata": {},
     "output_type": "execute_result"
    }
   ],
   "source": [
    "churn_data.head()"
   ]
  },
  {
   "cell_type": "code",
   "execution_count": 102,
   "metadata": {},
   "outputs": [
    {
     "data": {
      "text/plain": [
       "(10000, 11)"
      ]
     },
     "execution_count": 102,
     "metadata": {},
     "output_type": "execute_result"
    }
   ],
   "source": [
    "churn_data.shape"
   ]
  },
  {
   "cell_type": "code",
   "execution_count": 103,
   "metadata": {},
   "outputs": [],
   "source": [
    "columnTransformer = ColumnTransformer([('encoder', OneHotEncoder(), [1,2])], remainder='passthrough')\n",
    "data = np.array(columnTransformer.fit_transform(churn_data), dtype = np.str)"
   ]
  },
  {
   "cell_type": "code",
   "execution_count": 104,
   "metadata": {},
   "outputs": [
    {
     "data": {
      "text/plain": [
       "(10000, 14)"
      ]
     },
     "execution_count": 104,
     "metadata": {},
     "output_type": "execute_result"
    }
   ],
   "source": [
    "data.shape"
   ]
  },
  {
   "cell_type": "code",
   "execution_count": 105,
   "metadata": {},
   "outputs": [
    {
     "data": {
      "text/plain": [
       "array([['1.0', '0.0', '0.0', ..., '1.0', '101348.88', '1.0'],\n",
       "       ['0.0', '0.0', '1.0', ..., '1.0', '112542.58', '0.0'],\n",
       "       ['1.0', '0.0', '0.0', ..., '0.0', '113931.57', '1.0'],\n",
       "       ...,\n",
       "       ['1.0', '0.0', '0.0', ..., '1.0', '42085.58', '1.0'],\n",
       "       ['0.0', '1.0', '0.0', ..., '0.0', '92888.52', '1.0'],\n",
       "       ['1.0', '0.0', '0.0', ..., '0.0', '38190.78', '0.0']], dtype='<U32')"
      ]
     },
     "execution_count": 105,
     "metadata": {},
     "output_type": "execute_result"
    }
   ],
   "source": [
    "data"
   ]
  },
  {
   "cell_type": "code",
   "execution_count": null,
   "metadata": {},
   "outputs": [],
   "source": []
  },
  {
   "cell_type": "code",
   "execution_count": null,
   "metadata": {},
   "outputs": [],
   "source": []
  },
  {
   "cell_type": "code",
   "execution_count": null,
   "metadata": {},
   "outputs": [],
   "source": []
  },
  {
   "cell_type": "code",
   "execution_count": null,
   "metadata": {},
   "outputs": [],
   "source": []
  },
  {
   "cell_type": "code",
   "execution_count": 106,
   "metadata": {},
   "outputs": [
    {
     "name": "stderr",
     "output_type": "stream",
     "text": [
      "/home/ec2-user/anaconda3/envs/python3/lib/python3.6/site-packages/sklearn/utils/validation.py:595: DataConversionWarning: Data with input dtype <U32 was converted to float64 by StandardScaler.\n",
      "  warnings.warn(msg, DataConversionWarning)\n",
      "/home/ec2-user/anaconda3/envs/python3/lib/python3.6/site-packages/sklearn/utils/validation.py:595: DataConversionWarning: Data with input dtype <U32 was converted to float64 by StandardScaler.\n",
      "  warnings.warn(msg, DataConversionWarning)\n"
     ]
    }
   ],
   "source": [
    "sc = StandardScaler()\n",
    "data[:,:-1] = sc.fit_transform(data[:,:-1])"
   ]
  },
  {
   "cell_type": "code",
   "execution_count": 107,
   "metadata": {},
   "outputs": [
    {
     "data": {
      "text/plain": [
       "(10000, 14)"
      ]
     },
     "execution_count": 107,
     "metadata": {},
     "output_type": "execute_result"
    }
   ],
   "source": [
    "data.shape"
   ]
  },
  {
   "cell_type": "code",
   "execution_count": 108,
   "metadata": {},
   "outputs": [
    {
     "data": {
      "text/plain": [
       "array([['0.9972039090469509', '-0.5787359118285802',\n",
       "        '-0.5738091541336481', ..., '0.970242550937133',\n",
       "        '0.021886493995389635', '1.0'],\n",
       "       ['-1.0028039309990795', '-0.5787359118285802',\n",
       "        '1.7427397119690895', ..., '0.970242550937133',\n",
       "        '0.21653375188734358', '0.0'],\n",
       "       ['0.9972039090469509', '-0.5787359118285802',\n",
       "        '-0.5738091541336481', ..., '-1.030670113400118',\n",
       "        '0.24068690006349144', '1.0'],\n",
       "       ...,\n",
       "       ['0.9972039090469509', '-0.5787359118285802',\n",
       "        '-0.5738091541336481', ..., '0.970242550937133',\n",
       "        '-1.0086430751933717', '1.0'],\n",
       "       ['-1.0028039309990795', '1.7279038324064944',\n",
       "        '-0.5738091541336481', ..., '-1.030670113400118',\n",
       "        '-0.1252307125385332', '1.0'],\n",
       "       ['0.9972039090469509', '-0.5787359118285802',\n",
       "        '-0.5738091541336481', ..., '-1.030670113400118',\n",
       "        '-1.0763697553829055', '0.0']], dtype='<U32')"
      ]
     },
     "execution_count": 108,
     "metadata": {},
     "output_type": "execute_result"
    }
   ],
   "source": [
    "data"
   ]
  },
  {
   "cell_type": "code",
   "execution_count": 117,
   "metadata": {},
   "outputs": [
    {
     "data": {
      "text/html": [
       "<div>\n",
       "<style scoped>\n",
       "    .dataframe tbody tr th:only-of-type {\n",
       "        vertical-align: middle;\n",
       "    }\n",
       "\n",
       "    .dataframe tbody tr th {\n",
       "        vertical-align: top;\n",
       "    }\n",
       "\n",
       "    .dataframe thead th {\n",
       "        text-align: right;\n",
       "    }\n",
       "</style>\n",
       "<table border=\"1\" class=\"dataframe\">\n",
       "  <thead>\n",
       "    <tr style=\"text-align: right;\">\n",
       "      <th></th>\n",
       "      <th>0</th>\n",
       "      <th>1</th>\n",
       "      <th>2</th>\n",
       "      <th>3</th>\n",
       "      <th>4</th>\n",
       "      <th>5</th>\n",
       "      <th>6</th>\n",
       "      <th>7</th>\n",
       "      <th>8</th>\n",
       "      <th>9</th>\n",
       "      <th>10</th>\n",
       "      <th>11</th>\n",
       "      <th>12</th>\n",
       "      <th>13</th>\n",
       "    </tr>\n",
       "  </thead>\n",
       "  <tbody>\n",
       "    <tr>\n",
       "      <th>0</th>\n",
       "      <td>0.9972039090469509</td>\n",
       "      <td>-0.5787359118285802</td>\n",
       "      <td>-0.5738091541336481</td>\n",
       "      <td>1.0959875190286517</td>\n",
       "      <td>-1.0959875190286514</td>\n",
       "      <td>-0.3262214220367455</td>\n",
       "      <td>0.29351742289674765</td>\n",
       "      <td>-1.041759679225302</td>\n",
       "      <td>-1.2258476714090163</td>\n",
       "      <td>-0.911583494040172</td>\n",
       "      <td>0.6460916681531842</td>\n",
       "      <td>0.970242550937133</td>\n",
       "      <td>0.021886493995389635</td>\n",
       "      <td>1.0</td>\n",
       "    </tr>\n",
       "    <tr>\n",
       "      <th>1</th>\n",
       "      <td>-1.0028039309990795</td>\n",
       "      <td>-0.5787359118285802</td>\n",
       "      <td>1.7427397119690895</td>\n",
       "      <td>1.0959875190286517</td>\n",
       "      <td>-1.0959875190286514</td>\n",
       "      <td>-0.4400359548576646</td>\n",
       "      <td>0.19816383219544578</td>\n",
       "      <td>-1.387537586562431</td>\n",
       "      <td>0.11735002143511637</td>\n",
       "      <td>-0.911583494040172</td>\n",
       "      <td>-1.5477679860172207</td>\n",
       "      <td>0.970242550937133</td>\n",
       "      <td>0.21653375188734358</td>\n",
       "      <td>0.0</td>\n",
       "    </tr>\n",
       "    <tr>\n",
       "      <th>2</th>\n",
       "      <td>0.9972039090469509</td>\n",
       "      <td>-0.5787359118285802</td>\n",
       "      <td>-0.5738091541336481</td>\n",
       "      <td>1.0959875190286517</td>\n",
       "      <td>-1.0959875190286514</td>\n",
       "      <td>-1.5367941802228853</td>\n",
       "      <td>0.29351742289674765</td>\n",
       "      <td>1.0329077647974714</td>\n",
       "      <td>1.333053345722891</td>\n",
       "      <td>2.5270566192762067</td>\n",
       "      <td>0.6460916681531842</td>\n",
       "      <td>-1.030670113400118</td>\n",
       "      <td>0.24068690006349144</td>\n",
       "      <td>1.0</td>\n",
       "    </tr>\n",
       "    <tr>\n",
       "      <th>3</th>\n",
       "      <td>0.9972039090469509</td>\n",
       "      <td>-0.5787359118285802</td>\n",
       "      <td>-0.5738091541336481</td>\n",
       "      <td>1.0959875190286517</td>\n",
       "      <td>-1.0959875190286514</td>\n",
       "      <td>0.5015206348426664</td>\n",
       "      <td>0.007456650792842043</td>\n",
       "      <td>-1.387537586562431</td>\n",
       "      <td>-1.2258476714090163</td>\n",
       "      <td>0.8077365626180174</td>\n",
       "      <td>-1.5477679860172207</td>\n",
       "      <td>-1.030670113400118</td>\n",
       "      <td>-0.10891791702846762</td>\n",
       "      <td>0.0</td>\n",
       "    </tr>\n",
       "    <tr>\n",
       "      <th>4</th>\n",
       "      <td>-1.0028039309990795</td>\n",
       "      <td>-0.5787359118285802</td>\n",
       "      <td>1.7427397119690895</td>\n",
       "      <td>1.0959875190286517</td>\n",
       "      <td>-1.0959875190286514</td>\n",
       "      <td>2.0638837672025563</td>\n",
       "      <td>0.3888710135980495</td>\n",
       "      <td>-1.041759679225302</td>\n",
       "      <td>0.7857278997960621</td>\n",
       "      <td>-0.911583494040172</td>\n",
       "      <td>0.6460916681531842</td>\n",
       "      <td>0.970242550937133</td>\n",
       "      <td>-0.36527578251439885</td>\n",
       "      <td>0.0</td>\n",
       "    </tr>\n",
       "  </tbody>\n",
       "</table>\n",
       "</div>"
      ],
      "text/plain": [
       "                    0                    1                    2   \\\n",
       "0   0.9972039090469509  -0.5787359118285802  -0.5738091541336481   \n",
       "1  -1.0028039309990795  -0.5787359118285802   1.7427397119690895   \n",
       "2   0.9972039090469509  -0.5787359118285802  -0.5738091541336481   \n",
       "3   0.9972039090469509  -0.5787359118285802  -0.5738091541336481   \n",
       "4  -1.0028039309990795  -0.5787359118285802   1.7427397119690895   \n",
       "\n",
       "                   3                    4                    5   \\\n",
       "0  1.0959875190286517  -1.0959875190286514  -0.3262214220367455   \n",
       "1  1.0959875190286517  -1.0959875190286514  -0.4400359548576646   \n",
       "2  1.0959875190286517  -1.0959875190286514  -1.5367941802228853   \n",
       "3  1.0959875190286517  -1.0959875190286514   0.5015206348426664   \n",
       "4  1.0959875190286517  -1.0959875190286514   2.0638837672025563   \n",
       "\n",
       "                     6                   7                    8   \\\n",
       "0   0.29351742289674765  -1.041759679225302  -1.2258476714090163   \n",
       "1   0.19816383219544578  -1.387537586562431  0.11735002143511637   \n",
       "2   0.29351742289674765  1.0329077647974714    1.333053345722891   \n",
       "3  0.007456650792842043  -1.387537586562431  -1.2258476714090163   \n",
       "4    0.3888710135980495  -1.041759679225302   0.7857278997960621   \n",
       "\n",
       "                   9                    10                  11  \\\n",
       "0  -0.911583494040172   0.6460916681531842   0.970242550937133   \n",
       "1  -0.911583494040172  -1.5477679860172207   0.970242550937133   \n",
       "2  2.5270566192762067   0.6460916681531842  -1.030670113400118   \n",
       "3  0.8077365626180174  -1.5477679860172207  -1.030670113400118   \n",
       "4  -0.911583494040172   0.6460916681531842   0.970242550937133   \n",
       "\n",
       "                     12   13  \n",
       "0  0.021886493995389635  1.0  \n",
       "1   0.21653375188734358  0.0  \n",
       "2   0.24068690006349144  1.0  \n",
       "3  -0.10891791702846762  0.0  \n",
       "4  -0.36527578251439885  0.0  "
      ]
     },
     "execution_count": 117,
     "metadata": {},
     "output_type": "execute_result"
    }
   ],
   "source": [
    "df_final = pd.DataFrame(data)\n",
    "df_final.head()"
   ]
  },
  {
   "cell_type": "code",
   "execution_count": 118,
   "metadata": {},
   "outputs": [],
   "source": [
    "df_final[14] = df_final[0]\n",
    "df_final[0] = df_final[13]\n"
   ]
  },
  {
   "cell_type": "code",
   "execution_count": 124,
   "metadata": {},
   "outputs": [],
   "source": [
    "df_final.drop(columns = [13], inplace = True)"
   ]
  },
  {
   "cell_type": "code",
   "execution_count": 125,
   "metadata": {},
   "outputs": [
    {
     "data": {
      "text/plain": [
       "(10000, 14)"
      ]
     },
     "execution_count": 125,
     "metadata": {},
     "output_type": "execute_result"
    }
   ],
   "source": [
    "df_final.shape"
   ]
  },
  {
   "cell_type": "code",
   "execution_count": 126,
   "metadata": {},
   "outputs": [
    {
     "name": "stdout",
     "output_type": "stream",
     "text": [
      "<class 'pandas.core.frame.DataFrame'>\n",
      "RangeIndex: 10000 entries, 0 to 9999\n",
      "Data columns (total 14 columns):\n",
      "0     10000 non-null object\n",
      "1     10000 non-null object\n",
      "2     10000 non-null object\n",
      "3     10000 non-null object\n",
      "4     10000 non-null object\n",
      "5     10000 non-null object\n",
      "6     10000 non-null object\n",
      "7     10000 non-null object\n",
      "8     10000 non-null object\n",
      "9     10000 non-null object\n",
      "10    10000 non-null object\n",
      "11    10000 non-null object\n",
      "12    10000 non-null object\n",
      "14    10000 non-null object\n",
      "dtypes: object(14)\n",
      "memory usage: 1.1+ MB\n"
     ]
    }
   ],
   "source": [
    "df_final.info()"
   ]
  },
  {
   "cell_type": "code",
   "execution_count": 127,
   "metadata": {},
   "outputs": [],
   "source": [
    "df_final[0] = (df_final[0]).astype(str).astype(float).astype(int)"
   ]
  },
  {
   "cell_type": "code",
   "execution_count": 128,
   "metadata": {},
   "outputs": [
    {
     "data": {
      "text/html": [
       "<div>\n",
       "<style scoped>\n",
       "    .dataframe tbody tr th:only-of-type {\n",
       "        vertical-align: middle;\n",
       "    }\n",
       "\n",
       "    .dataframe tbody tr th {\n",
       "        vertical-align: top;\n",
       "    }\n",
       "\n",
       "    .dataframe thead th {\n",
       "        text-align: right;\n",
       "    }\n",
       "</style>\n",
       "<table border=\"1\" class=\"dataframe\">\n",
       "  <thead>\n",
       "    <tr style=\"text-align: right;\">\n",
       "      <th></th>\n",
       "      <th>0</th>\n",
       "      <th>1</th>\n",
       "      <th>2</th>\n",
       "      <th>3</th>\n",
       "      <th>4</th>\n",
       "      <th>5</th>\n",
       "      <th>6</th>\n",
       "      <th>7</th>\n",
       "      <th>8</th>\n",
       "      <th>9</th>\n",
       "      <th>10</th>\n",
       "      <th>11</th>\n",
       "      <th>12</th>\n",
       "      <th>14</th>\n",
       "    </tr>\n",
       "  </thead>\n",
       "  <tbody>\n",
       "    <tr>\n",
       "      <th>0</th>\n",
       "      <td>1</td>\n",
       "      <td>-0.5787359118285802</td>\n",
       "      <td>-0.5738091541336481</td>\n",
       "      <td>1.0959875190286517</td>\n",
       "      <td>-1.0959875190286514</td>\n",
       "      <td>-0.3262214220367455</td>\n",
       "      <td>0.29351742289674765</td>\n",
       "      <td>-1.041759679225302</td>\n",
       "      <td>-1.2258476714090163</td>\n",
       "      <td>-0.911583494040172</td>\n",
       "      <td>0.6460916681531842</td>\n",
       "      <td>0.970242550937133</td>\n",
       "      <td>0.021886493995389635</td>\n",
       "      <td>0.9972039090469509</td>\n",
       "    </tr>\n",
       "    <tr>\n",
       "      <th>1</th>\n",
       "      <td>0</td>\n",
       "      <td>-0.5787359118285802</td>\n",
       "      <td>1.7427397119690895</td>\n",
       "      <td>1.0959875190286517</td>\n",
       "      <td>-1.0959875190286514</td>\n",
       "      <td>-0.4400359548576646</td>\n",
       "      <td>0.19816383219544578</td>\n",
       "      <td>-1.387537586562431</td>\n",
       "      <td>0.11735002143511637</td>\n",
       "      <td>-0.911583494040172</td>\n",
       "      <td>-1.5477679860172207</td>\n",
       "      <td>0.970242550937133</td>\n",
       "      <td>0.21653375188734358</td>\n",
       "      <td>-1.0028039309990795</td>\n",
       "    </tr>\n",
       "    <tr>\n",
       "      <th>2</th>\n",
       "      <td>1</td>\n",
       "      <td>-0.5787359118285802</td>\n",
       "      <td>-0.5738091541336481</td>\n",
       "      <td>1.0959875190286517</td>\n",
       "      <td>-1.0959875190286514</td>\n",
       "      <td>-1.5367941802228853</td>\n",
       "      <td>0.29351742289674765</td>\n",
       "      <td>1.0329077647974714</td>\n",
       "      <td>1.333053345722891</td>\n",
       "      <td>2.5270566192762067</td>\n",
       "      <td>0.6460916681531842</td>\n",
       "      <td>-1.030670113400118</td>\n",
       "      <td>0.24068690006349144</td>\n",
       "      <td>0.9972039090469509</td>\n",
       "    </tr>\n",
       "    <tr>\n",
       "      <th>3</th>\n",
       "      <td>0</td>\n",
       "      <td>-0.5787359118285802</td>\n",
       "      <td>-0.5738091541336481</td>\n",
       "      <td>1.0959875190286517</td>\n",
       "      <td>-1.0959875190286514</td>\n",
       "      <td>0.5015206348426664</td>\n",
       "      <td>0.007456650792842043</td>\n",
       "      <td>-1.387537586562431</td>\n",
       "      <td>-1.2258476714090163</td>\n",
       "      <td>0.8077365626180174</td>\n",
       "      <td>-1.5477679860172207</td>\n",
       "      <td>-1.030670113400118</td>\n",
       "      <td>-0.10891791702846762</td>\n",
       "      <td>0.9972039090469509</td>\n",
       "    </tr>\n",
       "    <tr>\n",
       "      <th>4</th>\n",
       "      <td>0</td>\n",
       "      <td>-0.5787359118285802</td>\n",
       "      <td>1.7427397119690895</td>\n",
       "      <td>1.0959875190286517</td>\n",
       "      <td>-1.0959875190286514</td>\n",
       "      <td>2.0638837672025563</td>\n",
       "      <td>0.3888710135980495</td>\n",
       "      <td>-1.041759679225302</td>\n",
       "      <td>0.7857278997960621</td>\n",
       "      <td>-0.911583494040172</td>\n",
       "      <td>0.6460916681531842</td>\n",
       "      <td>0.970242550937133</td>\n",
       "      <td>-0.36527578251439885</td>\n",
       "      <td>-1.0028039309990795</td>\n",
       "    </tr>\n",
       "  </tbody>\n",
       "</table>\n",
       "</div>"
      ],
      "text/plain": [
       "   0                    1                    2                   3   \\\n",
       "0   1  -0.5787359118285802  -0.5738091541336481  1.0959875190286517   \n",
       "1   0  -0.5787359118285802   1.7427397119690895  1.0959875190286517   \n",
       "2   1  -0.5787359118285802  -0.5738091541336481  1.0959875190286517   \n",
       "3   0  -0.5787359118285802  -0.5738091541336481  1.0959875190286517   \n",
       "4   0  -0.5787359118285802   1.7427397119690895  1.0959875190286517   \n",
       "\n",
       "                    4                    5                     6   \\\n",
       "0  -1.0959875190286514  -0.3262214220367455   0.29351742289674765   \n",
       "1  -1.0959875190286514  -0.4400359548576646   0.19816383219544578   \n",
       "2  -1.0959875190286514  -1.5367941802228853   0.29351742289674765   \n",
       "3  -1.0959875190286514   0.5015206348426664  0.007456650792842043   \n",
       "4  -1.0959875190286514   2.0638837672025563    0.3888710135980495   \n",
       "\n",
       "                   7                    8                   9   \\\n",
       "0  -1.041759679225302  -1.2258476714090163  -0.911583494040172   \n",
       "1  -1.387537586562431  0.11735002143511637  -0.911583494040172   \n",
       "2  1.0329077647974714    1.333053345722891  2.5270566192762067   \n",
       "3  -1.387537586562431  -1.2258476714090163  0.8077365626180174   \n",
       "4  -1.041759679225302   0.7857278997960621  -0.911583494040172   \n",
       "\n",
       "                    10                  11                    12  \\\n",
       "0   0.6460916681531842   0.970242550937133  0.021886493995389635   \n",
       "1  -1.5477679860172207   0.970242550937133   0.21653375188734358   \n",
       "2   0.6460916681531842  -1.030670113400118   0.24068690006349144   \n",
       "3  -1.5477679860172207  -1.030670113400118  -0.10891791702846762   \n",
       "4   0.6460916681531842   0.970242550937133  -0.36527578251439885   \n",
       "\n",
       "                    14  \n",
       "0   0.9972039090469509  \n",
       "1  -1.0028039309990795  \n",
       "2   0.9972039090469509  \n",
       "3   0.9972039090469509  \n",
       "4  -1.0028039309990795  "
      ]
     },
     "execution_count": 128,
     "metadata": {},
     "output_type": "execute_result"
    }
   ],
   "source": [
    "df_final.head()"
   ]
  },
  {
   "cell_type": "code",
   "execution_count": 129,
   "metadata": {},
   "outputs": [
    {
     "name": "stdout",
     "output_type": "stream",
     "text": [
      "<class 'pandas.core.frame.DataFrame'>\n",
      "RangeIndex: 10000 entries, 0 to 9999\n",
      "Data columns (total 14 columns):\n",
      "0     10000 non-null int64\n",
      "1     10000 non-null object\n",
      "2     10000 non-null object\n",
      "3     10000 non-null object\n",
      "4     10000 non-null object\n",
      "5     10000 non-null object\n",
      "6     10000 non-null object\n",
      "7     10000 non-null object\n",
      "8     10000 non-null object\n",
      "9     10000 non-null object\n",
      "10    10000 non-null object\n",
      "11    10000 non-null object\n",
      "12    10000 non-null object\n",
      "14    10000 non-null object\n",
      "dtypes: int64(1), object(13)\n",
      "memory usage: 1.1+ MB\n"
     ]
    }
   ],
   "source": [
    "df_final.info()"
   ]
  },
  {
   "cell_type": "code",
   "execution_count": 130,
   "metadata": {},
   "outputs": [],
   "source": [
    "rng = RandomState()\n",
    "\n",
    "train = df_final.sample(frac=0.7, random_state=rng)\n",
    "\n",
    "test = df_final.loc[~df_final.index.isin(train.index)]"
   ]
  },
  {
   "cell_type": "code",
   "execution_count": 131,
   "metadata": {},
   "outputs": [],
   "source": [
    "rng = RandomState()\n",
    "\n",
    "validation = test.sample(frac=0.5, random_state=rng)\n",
    "\n",
    "test = test.loc[~test.index.isin(validation.index)]"
   ]
  },
  {
   "cell_type": "code",
   "execution_count": 132,
   "metadata": {},
   "outputs": [
    {
     "data": {
      "text/plain": [
       "(7000, 14)"
      ]
     },
     "execution_count": 132,
     "metadata": {},
     "output_type": "execute_result"
    }
   ],
   "source": [
    "train.shape"
   ]
  },
  {
   "cell_type": "code",
   "execution_count": 133,
   "metadata": {},
   "outputs": [
    {
     "data": {
      "text/plain": [
       "(1500, 14)"
      ]
     },
     "execution_count": 133,
     "metadata": {},
     "output_type": "execute_result"
    }
   ],
   "source": [
    "test.shape"
   ]
  },
  {
   "cell_type": "code",
   "execution_count": 134,
   "metadata": {},
   "outputs": [
    {
     "data": {
      "text/plain": [
       "(1500, 14)"
      ]
     },
     "execution_count": 134,
     "metadata": {},
     "output_type": "execute_result"
    }
   ],
   "source": [
    "validation.shape"
   ]
  },
  {
   "cell_type": "code",
   "execution_count": 135,
   "metadata": {},
   "outputs": [
    {
     "name": "stdout",
     "output_type": "stream",
     "text": [
      "<class 'pandas.core.frame.DataFrame'>\n",
      "Int64Index: 7000 entries, 7036 to 9423\n",
      "Data columns (total 14 columns):\n",
      "0     7000 non-null int64\n",
      "1     7000 non-null object\n",
      "2     7000 non-null object\n",
      "3     7000 non-null object\n",
      "4     7000 non-null object\n",
      "5     7000 non-null object\n",
      "6     7000 non-null object\n",
      "7     7000 non-null object\n",
      "8     7000 non-null object\n",
      "9     7000 non-null object\n",
      "10    7000 non-null object\n",
      "11    7000 non-null object\n",
      "12    7000 non-null object\n",
      "14    7000 non-null object\n",
      "dtypes: int64(1), object(13)\n",
      "memory usage: 820.3+ KB\n"
     ]
    }
   ],
   "source": [
    "train.info()"
   ]
  },
  {
   "cell_type": "code",
   "execution_count": null,
   "metadata": {},
   "outputs": [],
   "source": []
  },
  {
   "cell_type": "code",
   "execution_count": null,
   "metadata": {},
   "outputs": [],
   "source": []
  },
  {
   "cell_type": "code",
   "execution_count": null,
   "metadata": {},
   "outputs": [],
   "source": []
  },
  {
   "cell_type": "code",
   "execution_count": 136,
   "metadata": {},
   "outputs": [],
   "source": [
    "train.to_csv('train.csv', index=False, header = False)\n",
    "test.to_csv('test.csv', index=False, header = False)\n",
    "validation.to_csv('validation.csv', index=False, header = False)"
   ]
  },
  {
   "cell_type": "code",
   "execution_count": null,
   "metadata": {},
   "outputs": [],
   "source": []
  },
  {
   "cell_type": "code",
   "execution_count": 87,
   "metadata": {},
   "outputs": [
    {
     "name": "stdout",
     "output_type": "stream",
     "text": [
      "<class 'pandas.core.frame.DataFrame'>\n",
      "Int64Index: 1500 entries, 6 to 9995\n",
      "Data columns (total 14 columns):\n",
      "0     1500 non-null object\n",
      "1     1500 non-null object\n",
      "2     1500 non-null object\n",
      "3     1500 non-null object\n",
      "4     1500 non-null object\n",
      "5     1500 non-null object\n",
      "6     1500 non-null object\n",
      "7     1500 non-null object\n",
      "8     1500 non-null object\n",
      "9     1500 non-null object\n",
      "10    1500 non-null object\n",
      "11    1500 non-null object\n",
      "12    1500 non-null object\n",
      "13    1500 non-null int64\n",
      "dtypes: int64(1), object(13)\n",
      "memory usage: 175.8+ KB\n"
     ]
    }
   ],
   "source": [
    "test.info()"
   ]
  },
  {
   "cell_type": "code",
   "execution_count": 88,
   "metadata": {},
   "outputs": [
    {
     "name": "stdout",
     "output_type": "stream",
     "text": [
      "<class 'pandas.core.frame.DataFrame'>\n",
      "Int64Index: 1500 entries, 1956 to 9801\n",
      "Data columns (total 14 columns):\n",
      "0     1500 non-null object\n",
      "1     1500 non-null object\n",
      "2     1500 non-null object\n",
      "3     1500 non-null object\n",
      "4     1500 non-null object\n",
      "5     1500 non-null object\n",
      "6     1500 non-null object\n",
      "7     1500 non-null object\n",
      "8     1500 non-null object\n",
      "9     1500 non-null object\n",
      "10    1500 non-null object\n",
      "11    1500 non-null object\n",
      "12    1500 non-null object\n",
      "13    1500 non-null int64\n",
      "dtypes: int64(1), object(13)\n",
      "memory usage: 175.8+ KB\n"
     ]
    }
   ],
   "source": [
    "validation.info()"
   ]
  },
  {
   "cell_type": "code",
   "execution_count": null,
   "metadata": {},
   "outputs": [],
   "source": []
  },
  {
   "cell_type": "code",
   "execution_count": null,
   "metadata": {},
   "outputs": [],
   "source": []
  },
  {
   "cell_type": "code",
   "execution_count": null,
   "metadata": {},
   "outputs": [],
   "source": []
  },
  {
   "cell_type": "code",
   "execution_count": null,
   "metadata": {},
   "outputs": [],
   "source": []
  },
  {
   "cell_type": "code",
   "execution_count": null,
   "metadata": {},
   "outputs": [],
   "source": []
  },
  {
   "cell_type": "code",
   "execution_count": null,
   "metadata": {},
   "outputs": [],
   "source": []
  },
  {
   "cell_type": "code",
   "execution_count": null,
   "metadata": {},
   "outputs": [],
   "source": []
  },
  {
   "cell_type": "code",
   "execution_count": null,
   "metadata": {},
   "outputs": [],
   "source": []
  },
  {
   "cell_type": "code",
   "execution_count": null,
   "metadata": {},
   "outputs": [],
   "source": []
  },
  {
   "cell_type": "code",
   "execution_count": null,
   "metadata": {},
   "outputs": [],
   "source": []
  },
  {
   "cell_type": "code",
   "execution_count": null,
   "metadata": {},
   "outputs": [],
   "source": []
  },
  {
   "cell_type": "code",
   "execution_count": null,
   "metadata": {},
   "outputs": [],
   "source": []
  }
 ],
 "metadata": {
  "kernelspec": {
   "display_name": "conda_python3",
   "language": "python",
   "name": "conda_python3"
  },
  "language_info": {
   "codemirror_mode": {
    "name": "ipython",
    "version": 3
   },
   "file_extension": ".py",
   "mimetype": "text/x-python",
   "name": "python",
   "nbconvert_exporter": "python",
   "pygments_lexer": "ipython3",
   "version": "3.6.5"
  }
 },
 "nbformat": 4,
 "nbformat_minor": 4
}
